{
 "cells": [
  {
   "cell_type": "code",
   "execution_count": 6,
   "id": "67e3a0cb-7776-4a7f-95c3-6711b6c7b64c",
   "metadata": {},
   "outputs": [],
   "source": [
    "# pretraitement des données \n",
    "preprocessing_script_path = '/home/charlemagne/workspace/kaggle_challenge_titanic/dev/pre_processing/0_preprocessing.ipynb'\n",
    "%run $preprocessing_script_path"
   ]
  },
  {
   "cell_type": "code",
   "execution_count": null,
   "id": "83ac9364-e549-4ec3-88d6-fd7404bdec02",
   "metadata": {},
   "outputs": [],
   "source": []
  }
 ],
 "metadata": {
  "kernelspec": {
   "display_name": "Python 3 (ipykernel)",
   "language": "python",
   "name": "python3"
  },
  "language_info": {
   "codemirror_mode": {
    "name": "ipython",
    "version": 3
   },
   "file_extension": ".py",
   "mimetype": "text/x-python",
   "name": "python",
   "nbconvert_exporter": "python",
   "pygments_lexer": "ipython3",
   "version": "3.10.12"
  }
 },
 "nbformat": 4,
 "nbformat_minor": 5
}
