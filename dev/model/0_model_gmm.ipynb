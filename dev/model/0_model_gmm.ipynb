{
 "cells": [
  {
   "cell_type": "code",
   "execution_count": 7,
   "id": "67e3a0cb-7776-4a7f-95c3-6711b6c7b64c",
   "metadata": {},
   "outputs": [],
   "source": [
    "# pretraitement des données -> V0 PRETRAITEMENT \n",
    "preprocessing_script_path = '/home/charlemagne/workspace/kaggle_challenge_titanic/dev/pre_processing/0_preprocessing.ipynb'\n",
    "%run $preprocessing_script_path"
   ]
  },
  {
   "cell_type": "code",
   "execution_count": 8,
   "id": "83ac9364-e549-4ec3-88d6-fd7404bdec02",
   "metadata": {},
   "outputs": [],
   "source": [
    "# fichier de submission -> 0_model_gmm\n",
    "submission_file_path = '/home/charlemagne/workspace/kaggle_challenge_titanic/submission/0_model_gmm.csv'"
   ]
  },
  {
   "cell_type": "code",
   "execution_count": null,
   "id": "80131b12-29f0-4010-aa60-47049489cf8c",
   "metadata": {},
   "outputs": [],
   "source": []
  }
 ],
 "metadata": {
  "kernelspec": {
   "display_name": "Python 3 (ipykernel)",
   "language": "python",
   "name": "python3"
  },
  "language_info": {
   "codemirror_mode": {
    "name": "ipython",
    "version": 3
   },
   "file_extension": ".py",
   "mimetype": "text/x-python",
   "name": "python",
   "nbconvert_exporter": "python",
   "pygments_lexer": "ipython3",
   "version": "3.10.12"
  }
 },
 "nbformat": 4,
 "nbformat_minor": 5
}
