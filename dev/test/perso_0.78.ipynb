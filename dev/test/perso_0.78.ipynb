{
 "cells": [
  {
   "cell_type": "code",
   "execution_count": 26,
   "id": "fe68acec-330f-4dbf-b740-785692ffdbcc",
   "metadata": {},
   "outputs": [
    {
     "name": "stdout",
     "output_type": "stream",
     "text": [
      "Input features: ['Pclass', 'Name', 'Sex', 'Age', 'SibSp', 'Parch', 'Fare', 'Cabin', 'Embarked', 'Ticket_number', 'Ticket_item']\n"
     ]
    },
    {
     "name": "stderr",
     "output_type": "stream",
     "text": [
      "[WARNING 24-01-26 19:52:51.4200 CET gradient_boosted_trees.cc:1886] \"goss_alpha\" set but \"sampling_method\" not equal to \"GOSS\".\n",
      "[WARNING 24-01-26 19:52:51.4200 CET gradient_boosted_trees.cc:1897] \"goss_beta\" set but \"sampling_method\" not equal to \"GOSS\".\n",
      "[WARNING 24-01-26 19:52:51.4200 CET gradient_boosted_trees.cc:1911] \"selective_gradient_boosting_ratio\" set but \"sampling_method\" not equal to \"SELGB\".\n",
      "[INFO 24-01-26 19:52:51.6863 CET kernel.cc:1233] Loading model from path /tmp/tmpnqyibbhn/model/ with prefix 6dd9f14d8455443f\n",
      "[INFO 24-01-26 19:52:51.6877 CET quick_scorer_extended.cc:903] The binary was compiled without AVX2 support, but your CPU supports it. Enable it for faster model inference.\n",
      "[INFO 24-01-26 19:52:51.6879 CET abstract_model.cc:1344] Engine \"GradientBoostedTreesQuickScorerExtended\" built\n",
      "[INFO 24-01-26 19:52:51.6879 CET kernel.cc:1061] Use fast generic engine\n",
      "[WARNING 24-01-26 19:52:51.8149 CET gradient_boosted_trees.cc:1886] \"goss_alpha\" set but \"sampling_method\" not equal to \"GOSS\".\n",
      "[WARNING 24-01-26 19:52:51.8149 CET gradient_boosted_trees.cc:1897] \"goss_beta\" set but \"sampling_method\" not equal to \"GOSS\".\n",
      "[WARNING 24-01-26 19:52:51.8149 CET gradient_boosted_trees.cc:1911] \"selective_gradient_boosting_ratio\" set but \"sampling_method\" not equal to \"SELGB\".\n"
     ]
    },
    {
     "name": "stdout",
     "output_type": "stream",
     "text": [
      "Accuracy: 0.8260869383811951 Loss:0.8608942627906799\n",
      "Accuracy: 0.782608687877655 Loss:1.0586705207824707\n",
      "Model: \"gradient_boosted_trees_model_108\"\n",
      "_________________________________________________________________\n",
      " Layer (type)                Output Shape              Param #   \n",
      "=================================================================\n",
      "=================================================================\n",
      "Total params: 1 (1.00 Byte)\n",
      "Trainable params: 0 (0.00 Byte)\n",
      "Non-trainable params: 1 (1.00 Byte)\n",
      "_________________________________________________________________\n",
      "Type: \"GRADIENT_BOOSTED_TREES\"\n",
      "Task: CLASSIFICATION\n",
      "Label: \"__LABEL\"\n",
      "\n",
      "Input Features (11):\n",
      "\tAge\n",
      "\tCabin\n",
      "\tEmbarked\n",
      "\tFare\n",
      "\tName\n",
      "\tParch\n",
      "\tPclass\n",
      "\tSex\n",
      "\tSibSp\n",
      "\tTicket_item\n",
      "\tTicket_number\n",
      "\n",
      "No weights\n",
      "\n",
      "Variable Importance: INV_MEAN_MIN_DEPTH:\n",
      "    1.           \"Sex\"  0.585997 ################\n",
      "    2.           \"Age\"  0.364636 #######\n",
      "    3.          \"Fare\"  0.266191 ###\n",
      "    4.          \"Name\"  0.207054 #\n",
      "    5.        \"Pclass\"  0.179191 \n",
      "    6. \"Ticket_number\"  0.178806 \n",
      "    7.      \"Embarked\"  0.177803 \n",
      "    8.   \"Ticket_item\"  0.177009 \n",
      "    9.         \"Parch\"  0.175276 \n",
      "   10.         \"SibSp\"  0.171694 \n",
      "\n",
      "Variable Importance: NUM_AS_ROOT:\n",
      "    1.  \"Sex\" 34.000000 ################\n",
      "    2. \"Name\"  6.000000 \n",
      "\n",
      "Variable Importance: NUM_NODES:\n",
      "    1.           \"Age\" 510.000000 ################\n",
      "    2.          \"Fare\" 298.000000 #########\n",
      "    3.          \"Name\" 60.000000 #\n",
      "    4.   \"Ticket_item\" 47.000000 #\n",
      "    5.           \"Sex\" 40.000000 #\n",
      "    6.         \"Parch\" 22.000000 \n",
      "    7. \"Ticket_number\" 20.000000 \n",
      "    8.      \"Embarked\" 15.000000 \n",
      "    9.        \"Pclass\" 15.000000 \n",
      "   10.         \"SibSp\"  6.000000 \n",
      "\n",
      "Variable Importance: SUM_SCORE:\n",
      "    1.           \"Sex\" 482.453470 ################\n",
      "    2.           \"Age\" 390.670218 ############\n",
      "    3.          \"Fare\" 321.170935 ##########\n",
      "    4.          \"Name\" 102.043860 ###\n",
      "    5.        \"Pclass\" 26.605919 \n",
      "    6.   \"Ticket_item\" 22.954813 \n",
      "    7. \"Ticket_number\" 17.413948 \n",
      "    8.      \"Embarked\"  8.969861 \n",
      "    9.         \"Parch\"  6.947528 \n",
      "   10.         \"SibSp\"  0.455899 \n",
      "\n",
      "\n",
      "\n",
      "Loss: BINOMIAL_LOG_LIKELIHOOD\n",
      "Validation loss value: 1.05867\n",
      "Number of trees per iteration: 1\n",
      "Node format: NOT_SET\n",
      "Number of trees: 40\n",
      "Total number of nodes: 2106\n",
      "\n",
      "Number of nodes by tree:\n",
      "Count: 40 Average: 52.65 StdDev: 4.2869\n",
      "Min: 41 Max: 61 Ignored: 0\n",
      "----------------------------------------------\n",
      "[ 41, 42)  2   5.00%   5.00% ##\n",
      "[ 42, 43)  0   0.00%   5.00%\n",
      "[ 43, 44)  0   0.00%   5.00%\n",
      "[ 44, 45)  0   0.00%   5.00%\n",
      "[ 45, 46)  0   0.00%   5.00%\n",
      "[ 46, 47)  0   0.00%   5.00%\n",
      "[ 47, 48)  4  10.00%  15.00% ####\n",
      "[ 48, 49)  0   0.00%  15.00%\n",
      "[ 49, 50)  3   7.50%  22.50% ###\n",
      "[ 50, 51)  0   0.00%  22.50%\n",
      "[ 51, 52)  4  10.00%  32.50% ####\n",
      "[ 52, 53)  0   0.00%  32.50%\n",
      "[ 53, 54) 11  27.50%  60.00% ##########\n",
      "[ 54, 55)  0   0.00%  60.00%\n",
      "[ 55, 56) 10  25.00%  85.00% #########\n",
      "[ 56, 57)  0   0.00%  85.00%\n",
      "[ 57, 58)  2   5.00%  90.00% ##\n",
      "[ 58, 59)  0   0.00%  90.00%\n",
      "[ 59, 60)  3   7.50%  97.50% ###\n",
      "[ 60, 61]  1   2.50% 100.00% #\n",
      "\n",
      "Depth by leafs:\n",
      "Count: 1073 Average: 4.84623 StdDev: 0.454477\n",
      "Min: 2 Max: 5 Ignored: 0\n",
      "----------------------------------------------\n",
      "[ 2, 3)   1   0.09%   0.09%\n",
      "[ 3, 4)  38   3.54%   3.63%\n",
      "[ 4, 5)  86   8.01%  11.65% #\n",
      "[ 5, 5] 948  88.35% 100.00% ##########\n",
      "\n",
      "Number of training obs by leaf:\n",
      "Count: 1073 Average: 29.7856 StdDev: 71.8675\n",
      "Min: 1 Max: 458 Ignored: 0\n",
      "----------------------------------------------\n",
      "[   1,  23) 846  78.84%  78.84% ##########\n",
      "[  23,  46)  62   5.78%  84.62% #\n",
      "[  46,  69)  48   4.47%  89.10% #\n",
      "[  69,  92)  21   1.96%  91.05%\n",
      "[  92, 115)  10   0.93%  91.99%\n",
      "[ 115, 138)  15   1.40%  93.38%\n",
      "[ 138, 161)  23   2.14%  95.53%\n",
      "[ 161, 184)   6   0.56%  96.09%\n",
      "[ 184, 207)   3   0.28%  96.37%\n",
      "[ 207, 230)   4   0.37%  96.74%\n",
      "[ 230, 252)   1   0.09%  96.83%\n",
      "[ 252, 275)   1   0.09%  96.92%\n",
      "[ 275, 298)   2   0.19%  97.11%\n",
      "[ 298, 321)   2   0.19%  97.30%\n",
      "[ 321, 344)   0   0.00%  97.30%\n",
      "[ 344, 367)   9   0.84%  98.14%\n",
      "[ 367, 390)   6   0.56%  98.70%\n",
      "[ 390, 413)   9   0.84%  99.53%\n",
      "[ 413, 436)   4   0.37%  99.91%\n",
      "[ 436, 458]   1   0.09% 100.00%\n",
      "\n",
      "Attribute in nodes:\n",
      "\t510 : Age [NUMERICAL]\n",
      "\t298 : Fare [NUMERICAL]\n",
      "\t60 : Name [CATEGORICAL_SET]\n",
      "\t47 : Ticket_item [CATEGORICAL]\n",
      "\t40 : Sex [CATEGORICAL]\n",
      "\t22 : Parch [NUMERICAL]\n",
      "\t20 : Ticket_number [CATEGORICAL]\n",
      "\t15 : Pclass [NUMERICAL]\n",
      "\t15 : Embarked [CATEGORICAL]\n",
      "\t6 : SibSp [NUMERICAL]\n",
      "\n",
      "Attribute in nodes with depth <= 0:\n",
      "\t34 : Sex [CATEGORICAL]\n",
      "\t6 : Name [CATEGORICAL_SET]\n",
      "\n",
      "Attribute in nodes with depth <= 1:\n",
      "\t48 : Age [NUMERICAL]\n",
      "\t34 : Sex [CATEGORICAL]\n",
      "\t25 : Fare [NUMERICAL]\n",
      "\t6 : Name [CATEGORICAL_SET]\n",
      "\t5 : Pclass [NUMERICAL]\n",
      "\t2 : Ticket_number [CATEGORICAL]\n",
      "\n",
      "Attribute in nodes with depth <= 2:\n",
      "\t121 : Age [NUMERICAL]\n",
      "\t74 : Fare [NUMERICAL]\n",
      "\t34 : Sex [CATEGORICAL]\n",
      "\t19 : Name [CATEGORICAL_SET]\n",
      "\t8 : Ticket_number [CATEGORICAL]\n",
      "\t8 : Embarked [CATEGORICAL]\n",
      "\t6 : Pclass [NUMERICAL]\n",
      "\t6 : Parch [NUMERICAL]\n",
      "\t3 : Ticket_item [CATEGORICAL]\n",
      "\n",
      "Attribute in nodes with depth <= 3:\n",
      "\t261 : Age [NUMERICAL]\n",
      "\t164 : Fare [NUMERICAL]\n",
      "\t36 : Sex [CATEGORICAL]\n",
      "\t35 : Name [CATEGORICAL_SET]\n",
      "\t16 : Ticket_item [CATEGORICAL]\n",
      "\t13 : Ticket_number [CATEGORICAL]\n",
      "\t12 : Embarked [CATEGORICAL]\n",
      "\t11 : Parch [NUMERICAL]\n",
      "\t9 : Pclass [NUMERICAL]\n",
      "\t2 : SibSp [NUMERICAL]\n",
      "\n",
      "Attribute in nodes with depth <= 5:\n",
      "\t510 : Age [NUMERICAL]\n",
      "\t298 : Fare [NUMERICAL]\n",
      "\t60 : Name [CATEGORICAL_SET]\n",
      "\t47 : Ticket_item [CATEGORICAL]\n",
      "\t40 : Sex [CATEGORICAL]\n",
      "\t22 : Parch [NUMERICAL]\n",
      "\t20 : Ticket_number [CATEGORICAL]\n",
      "\t15 : Pclass [NUMERICAL]\n",
      "\t15 : Embarked [CATEGORICAL]\n",
      "\t6 : SibSp [NUMERICAL]\n",
      "\n",
      "Condition type in nodes:\n",
      "\t851 : ObliqueCondition\n",
      "\t135 : ContainsBitmapCondition\n",
      "\t47 : ContainsCondition\n",
      "Condition type in nodes with depth <= 0:\n",
      "\t38 : ContainsBitmapCondition\n",
      "\t2 : ContainsCondition\n",
      "Condition type in nodes with depth <= 1:\n",
      "\t78 : ObliqueCondition\n",
      "\t40 : ContainsBitmapCondition\n",
      "\t2 : ContainsCondition\n",
      "Condition type in nodes with depth <= 2:\n",
      "\t207 : ObliqueCondition\n",
      "\t58 : ContainsBitmapCondition\n",
      "\t14 : ContainsCondition\n",
      "Condition type in nodes with depth <= 3:\n",
      "\t447 : ObliqueCondition\n",
      "\t83 : ContainsBitmapCondition\n",
      "\t29 : ContainsCondition\n",
      "Condition type in nodes with depth <= 5:\n",
      "\t851 : ObliqueCondition\n",
      "\t135 : ContainsBitmapCondition\n",
      "\t47 : ContainsCondition\n",
      "\n",
      "Training logs:\n",
      "Number of iteration to final model: 40\n",
      "\tIter:1 train-loss:1.264594 valid-loss:1.360749  train-accuracy:0.624531 valid-accuracy:0.543478\n",
      "\tIter:2 train-loss:1.210623 valid-loss:1.320363  train-accuracy:0.624531 valid-accuracy:0.543478\n",
      "\tIter:3 train-loss:1.160657 valid-loss:1.281972  train-accuracy:0.624531 valid-accuracy:0.543478\n",
      "\tIter:4 train-loss:1.116982 valid-loss:1.250548  train-accuracy:0.624531 valid-accuracy:0.543478\n",
      "\tIter:5 train-loss:1.075170 valid-loss:1.221467  train-accuracy:0.807259 valid-accuracy:0.760870\n",
      "\tIter:6 train-loss:1.035656 valid-loss:1.199482  train-accuracy:0.822278 valid-accuracy:0.760870\n",
      "\tIter:16 train-loss:0.787670 valid-loss:1.088161  train-accuracy:0.903630 valid-accuracy:0.771739\n",
      "\tIter:26 train-loss:0.647960 valid-loss:1.065191  train-accuracy:0.922403 valid-accuracy:0.782609\n",
      "\tIter:36 train-loss:0.557737 valid-loss:1.071260  train-accuracy:0.922403 valid-accuracy:0.782609\n",
      "\tIter:46 train-loss:0.494259 valid-loss:1.063639  train-accuracy:0.927409 valid-accuracy:0.771739\n",
      "\tIter:56 train-loss:0.443537 valid-loss:1.070069  train-accuracy:0.939925 valid-accuracy:0.760870\n",
      "\tIter:66 train-loss:0.404514 valid-loss:1.081874  train-accuracy:0.949937 valid-accuracy:0.760870\n",
      "\n",
      "Submission exported to /home/charlemagne/workspace/kaggle_challenge_titanic/submission/submission.csv\n",
      "Use /tmp/tmpnh12yh42 as temporary training directory\n"
     ]
    },
    {
     "name": "stderr",
     "output_type": "stream",
     "text": [
      "[INFO 24-01-26 19:52:52.1737 CET kernel.cc:1233] Loading model from path /tmp/tmpoxz2y2d9/model/ with prefix 32f61bfc377f41b4\n",
      "[INFO 24-01-26 19:52:52.1762 CET decision_forest.cc:660] Model loaded with 40 root(s), 2106 node(s), and 10 input feature(s).\n",
      "[INFO 24-01-26 19:52:52.1763 CET kernel.cc:1061] Use fast generic engine\n",
      "[WARNING 24-01-26 19:52:52.3599 CET gradient_boosted_trees.cc:1886] \"goss_alpha\" set but \"sampling_method\" not equal to \"GOSS\".\n",
      "[WARNING 24-01-26 19:52:52.3599 CET gradient_boosted_trees.cc:1897] \"goss_beta\" set but \"sampling_method\" not equal to \"GOSS\".\n",
      "[WARNING 24-01-26 19:52:52.3599 CET gradient_boosted_trees.cc:1911] \"selective_gradient_boosting_ratio\" set but \"sampling_method\" not equal to \"SELGB\".\n",
      "[INFO 24-01-26 19:53:04.2191 CET kernel.cc:1233] Loading model from path /tmp/tmpnh12yh42/model/ with prefix 41137c35a73c4b08\n",
      "[INFO 24-01-26 19:53:04.2265 CET decision_forest.cc:660] Model loaded with 30 root(s), 2236 node(s), and 12 input feature(s).\n",
      "[INFO 24-01-26 19:53:04.2266 CET abstract_model.cc:1344] Engine \"GradientBoostedTreesGeneric\" built\n",
      "[INFO 24-01-26 19:53:04.2266 CET kernel.cc:1061] Use fast generic engine\n",
      "[WARNING 24-01-26 19:53:04.3457 CET gradient_boosted_trees.cc:1886] \"goss_alpha\" set but \"sampling_method\" not equal to \"GOSS\".\n",
      "[WARNING 24-01-26 19:53:04.3457 CET gradient_boosted_trees.cc:1897] \"goss_beta\" set but \"sampling_method\" not equal to \"GOSS\".\n",
      "[WARNING 24-01-26 19:53:04.3457 CET gradient_boosted_trees.cc:1911] \"selective_gradient_boosting_ratio\" set but \"sampling_method\" not equal to \"SELGB\".\n"
     ]
    },
    {
     "name": "stdout",
     "output_type": "stream",
     "text": [
      "Accuracy: 0.8630136847496033 Loss:0.6749962568283081\n",
      "i:0\n"
     ]
    },
    {
     "name": "stderr",
     "output_type": "stream",
     "text": [
      "[INFO 24-01-26 19:53:04.5757 CET kernel.cc:1233] Loading model from path /tmp/tmp98pyw465/model/ with prefix 3f5526e53893401b\n",
      "[INFO 24-01-26 19:53:04.5768 CET kernel.cc:1061] Use fast generic engine\n",
      "[WARNING 24-01-26 19:53:04.7352 CET gradient_boosted_trees.cc:1886] \"goss_alpha\" set but \"sampling_method\" not equal to \"GOSS\".\n",
      "[WARNING 24-01-26 19:53:04.7352 CET gradient_boosted_trees.cc:1897] \"goss_beta\" set but \"sampling_method\" not equal to \"GOSS\".\n",
      "[WARNING 24-01-26 19:53:04.7352 CET gradient_boosted_trees.cc:1911] \"selective_gradient_boosting_ratio\" set but \"sampling_method\" not equal to \"SELGB\".\n"
     ]
    },
    {
     "name": "stdout",
     "output_type": "stream",
     "text": [
      "i:1\n"
     ]
    },
    {
     "name": "stderr",
     "output_type": "stream",
     "text": [
      "[INFO 24-01-26 19:53:05.1286 CET kernel.cc:1233] Loading model from path /tmp/tmpnur4dmwf/model/ with prefix 4a00b926a930448c\n",
      "[INFO 24-01-26 19:53:05.1330 CET kernel.cc:1061] Use fast generic engine\n",
      "[WARNING 24-01-26 19:53:05.2931 CET gradient_boosted_trees.cc:1886] \"goss_alpha\" set but \"sampling_method\" not equal to \"GOSS\".\n",
      "[WARNING 24-01-26 19:53:05.2931 CET gradient_boosted_trees.cc:1897] \"goss_beta\" set but \"sampling_method\" not equal to \"GOSS\".\n",
      "[WARNING 24-01-26 19:53:05.2931 CET gradient_boosted_trees.cc:1911] \"selective_gradient_boosting_ratio\" set but \"sampling_method\" not equal to \"SELGB\".\n"
     ]
    },
    {
     "name": "stdout",
     "output_type": "stream",
     "text": [
      "i:2\n"
     ]
    },
    {
     "name": "stderr",
     "output_type": "stream",
     "text": [
      "[INFO 24-01-26 19:53:05.5126 CET kernel.cc:1233] Loading model from path /tmp/tmp7sqf6zln/model/ with prefix 967ce412b2e4443a\n",
      "[INFO 24-01-26 19:53:05.5136 CET kernel.cc:1061] Use fast generic engine\n",
      "[WARNING 24-01-26 19:53:05.6704 CET gradient_boosted_trees.cc:1886] \"goss_alpha\" set but \"sampling_method\" not equal to \"GOSS\".\n",
      "[WARNING 24-01-26 19:53:05.6704 CET gradient_boosted_trees.cc:1897] \"goss_beta\" set but \"sampling_method\" not equal to \"GOSS\".\n",
      "[WARNING 24-01-26 19:53:05.6704 CET gradient_boosted_trees.cc:1911] \"selective_gradient_boosting_ratio\" set but \"sampling_method\" not equal to \"SELGB\".\n"
     ]
    },
    {
     "name": "stdout",
     "output_type": "stream",
     "text": [
      "i:3\n"
     ]
    },
    {
     "name": "stderr",
     "output_type": "stream",
     "text": [
      "[INFO 24-01-26 19:53:06.1294 CET kernel.cc:1233] Loading model from path /tmp/tmpy0hluu2r/model/ with prefix c0234d0ff0f64e82\n",
      "[INFO 24-01-26 19:53:06.1349 CET kernel.cc:1061] Use fast generic engine\n",
      "[WARNING 24-01-26 19:53:06.2954 CET gradient_boosted_trees.cc:1886] \"goss_alpha\" set but \"sampling_method\" not equal to \"GOSS\".\n",
      "[WARNING 24-01-26 19:53:06.2954 CET gradient_boosted_trees.cc:1897] \"goss_beta\" set but \"sampling_method\" not equal to \"GOSS\".\n",
      "[WARNING 24-01-26 19:53:06.2954 CET gradient_boosted_trees.cc:1911] \"selective_gradient_boosting_ratio\" set but \"sampling_method\" not equal to \"SELGB\".\n"
     ]
    },
    {
     "name": "stdout",
     "output_type": "stream",
     "text": [
      "i:4\n"
     ]
    },
    {
     "name": "stderr",
     "output_type": "stream",
     "text": [
      "[INFO 24-01-26 19:53:06.5266 CET kernel.cc:1233] Loading model from path /tmp/tmpe_ag0oyz/model/ with prefix 8bd4d38a43e0406b\n",
      "[INFO 24-01-26 19:53:06.5279 CET kernel.cc:1061] Use fast generic engine\n",
      "[WARNING 24-01-26 19:53:06.6851 CET gradient_boosted_trees.cc:1886] \"goss_alpha\" set but \"sampling_method\" not equal to \"GOSS\".\n",
      "[WARNING 24-01-26 19:53:06.6851 CET gradient_boosted_trees.cc:1897] \"goss_beta\" set but \"sampling_method\" not equal to \"GOSS\".\n",
      "[WARNING 24-01-26 19:53:06.6851 CET gradient_boosted_trees.cc:1911] \"selective_gradient_boosting_ratio\" set but \"sampling_method\" not equal to \"SELGB\".\n"
     ]
    },
    {
     "name": "stdout",
     "output_type": "stream",
     "text": [
      "i:5\n"
     ]
    },
    {
     "name": "stderr",
     "output_type": "stream",
     "text": [
      "[INFO 24-01-26 19:53:06.8886 CET kernel.cc:1233] Loading model from path /tmp/tmp7ttp46lg/model/ with prefix 1e1869cc049646d4\n",
      "[INFO 24-01-26 19:53:06.8895 CET kernel.cc:1061] Use fast generic engine\n",
      "[WARNING 24-01-26 19:53:07.0516 CET gradient_boosted_trees.cc:1886] \"goss_alpha\" set but \"sampling_method\" not equal to \"GOSS\".\n",
      "[WARNING 24-01-26 19:53:07.0516 CET gradient_boosted_trees.cc:1897] \"goss_beta\" set but \"sampling_method\" not equal to \"GOSS\".\n",
      "[WARNING 24-01-26 19:53:07.0516 CET gradient_boosted_trees.cc:1911] \"selective_gradient_boosting_ratio\" set but \"sampling_method\" not equal to \"SELGB\".\n"
     ]
    },
    {
     "name": "stdout",
     "output_type": "stream",
     "text": [
      "i:6\n"
     ]
    },
    {
     "name": "stderr",
     "output_type": "stream",
     "text": [
      "[INFO 24-01-26 19:53:07.3034 CET kernel.cc:1233] Loading model from path /tmp/tmppl7ke9tk/model/ with prefix ec241b49dfca4bdf\n",
      "[INFO 24-01-26 19:53:07.3052 CET kernel.cc:1061] Use fast generic engine\n",
      "[WARNING 24-01-26 19:53:07.4650 CET gradient_boosted_trees.cc:1886] \"goss_alpha\" set but \"sampling_method\" not equal to \"GOSS\".\n",
      "[WARNING 24-01-26 19:53:07.4650 CET gradient_boosted_trees.cc:1897] \"goss_beta\" set but \"sampling_method\" not equal to \"GOSS\".\n",
      "[WARNING 24-01-26 19:53:07.4650 CET gradient_boosted_trees.cc:1911] \"selective_gradient_boosting_ratio\" set but \"sampling_method\" not equal to \"SELGB\".\n"
     ]
    },
    {
     "name": "stdout",
     "output_type": "stream",
     "text": [
      "i:7\n"
     ]
    },
    {
     "name": "stderr",
     "output_type": "stream",
     "text": [
      "[INFO 24-01-26 19:53:07.8602 CET kernel.cc:1233] Loading model from path /tmp/tmpmbitmv57/model/ with prefix 3d6bca1fbff34bad\n",
      "[INFO 24-01-26 19:53:07.8651 CET kernel.cc:1061] Use fast generic engine\n",
      "[WARNING 24-01-26 19:53:08.0217 CET gradient_boosted_trees.cc:1886] \"goss_alpha\" set but \"sampling_method\" not equal to \"GOSS\".\n",
      "[WARNING 24-01-26 19:53:08.0217 CET gradient_boosted_trees.cc:1897] \"goss_beta\" set but \"sampling_method\" not equal to \"GOSS\".\n",
      "[WARNING 24-01-26 19:53:08.0217 CET gradient_boosted_trees.cc:1911] \"selective_gradient_boosting_ratio\" set but \"sampling_method\" not equal to \"SELGB\".\n"
     ]
    },
    {
     "name": "stdout",
     "output_type": "stream",
     "text": [
      "i:8\n"
     ]
    },
    {
     "name": "stderr",
     "output_type": "stream",
     "text": [
      "[INFO 24-01-26 19:53:08.3002 CET kernel.cc:1233] Loading model from path /tmp/tmpqtofubki/model/ with prefix 44fd4d330a5649ae\n",
      "[INFO 24-01-26 19:53:08.3021 CET kernel.cc:1061] Use fast generic engine\n",
      "[WARNING 24-01-26 19:53:08.4564 CET gradient_boosted_trees.cc:1886] \"goss_alpha\" set but \"sampling_method\" not equal to \"GOSS\".\n",
      "[WARNING 24-01-26 19:53:08.4564 CET gradient_boosted_trees.cc:1897] \"goss_beta\" set but \"sampling_method\" not equal to \"GOSS\".\n",
      "[WARNING 24-01-26 19:53:08.4564 CET gradient_boosted_trees.cc:1911] \"selective_gradient_boosting_ratio\" set but \"sampling_method\" not equal to \"SELGB\".\n"
     ]
    },
    {
     "name": "stdout",
     "output_type": "stream",
     "text": [
      "i:9\n"
     ]
    },
    {
     "name": "stderr",
     "output_type": "stream",
     "text": [
      "[INFO 24-01-26 19:53:08.7915 CET kernel.cc:1233] Loading model from path /tmp/tmp73c0ffjm/model/ with prefix 133dcba27bea447c\n",
      "[INFO 24-01-26 19:53:08.7945 CET kernel.cc:1061] Use fast generic engine\n",
      "[WARNING 24-01-26 19:53:08.9557 CET gradient_boosted_trees.cc:1886] \"goss_alpha\" set but \"sampling_method\" not equal to \"GOSS\".\n",
      "[WARNING 24-01-26 19:53:08.9557 CET gradient_boosted_trees.cc:1897] \"goss_beta\" set but \"sampling_method\" not equal to \"GOSS\".\n",
      "[WARNING 24-01-26 19:53:08.9557 CET gradient_boosted_trees.cc:1911] \"selective_gradient_boosting_ratio\" set but \"sampling_method\" not equal to \"SELGB\".\n"
     ]
    },
    {
     "name": "stdout",
     "output_type": "stream",
     "text": [
      "i:10\n"
     ]
    },
    {
     "name": "stderr",
     "output_type": "stream",
     "text": [
      "[INFO 24-01-26 19:53:09.1846 CET kernel.cc:1233] Loading model from path /tmp/tmpu8k1ok38/model/ with prefix e8675540caee4340\n",
      "[INFO 24-01-26 19:53:09.1858 CET kernel.cc:1061] Use fast generic engine\n",
      "[WARNING 24-01-26 19:53:09.3388 CET gradient_boosted_trees.cc:1886] \"goss_alpha\" set but \"sampling_method\" not equal to \"GOSS\".\n",
      "[WARNING 24-01-26 19:53:09.3388 CET gradient_boosted_trees.cc:1897] \"goss_beta\" set but \"sampling_method\" not equal to \"GOSS\".\n",
      "[WARNING 24-01-26 19:53:09.3388 CET gradient_boosted_trees.cc:1911] \"selective_gradient_boosting_ratio\" set but \"sampling_method\" not equal to \"SELGB\".\n"
     ]
    },
    {
     "name": "stdout",
     "output_type": "stream",
     "text": [
      "i:11\n"
     ]
    },
    {
     "name": "stderr",
     "output_type": "stream",
     "text": [
      "[INFO 24-01-26 19:53:09.6658 CET kernel.cc:1233] Loading model from path /tmp/tmp297447ne/model/ with prefix 3dc40df262694fd8\n",
      "[INFO 24-01-26 19:53:09.6693 CET kernel.cc:1061] Use fast generic engine\n",
      "[WARNING 24-01-26 19:53:09.8239 CET gradient_boosted_trees.cc:1886] \"goss_alpha\" set but \"sampling_method\" not equal to \"GOSS\".\n",
      "[WARNING 24-01-26 19:53:09.8239 CET gradient_boosted_trees.cc:1897] \"goss_beta\" set but \"sampling_method\" not equal to \"GOSS\".\n",
      "[WARNING 24-01-26 19:53:09.8239 CET gradient_boosted_trees.cc:1911] \"selective_gradient_boosting_ratio\" set but \"sampling_method\" not equal to \"SELGB\".\n"
     ]
    },
    {
     "name": "stdout",
     "output_type": "stream",
     "text": [
      "i:12\n"
     ]
    },
    {
     "name": "stderr",
     "output_type": "stream",
     "text": [
      "[INFO 24-01-26 19:53:10.0610 CET kernel.cc:1233] Loading model from path /tmp/tmpbwgdc_sy/model/ with prefix cce2150d8d97416e\n",
      "[INFO 24-01-26 19:53:10.0622 CET kernel.cc:1061] Use fast generic engine\n",
      "[WARNING 24-01-26 19:53:10.2166 CET gradient_boosted_trees.cc:1886] \"goss_alpha\" set but \"sampling_method\" not equal to \"GOSS\".\n",
      "[WARNING 24-01-26 19:53:10.2166 CET gradient_boosted_trees.cc:1897] \"goss_beta\" set but \"sampling_method\" not equal to \"GOSS\".\n",
      "[WARNING 24-01-26 19:53:10.2166 CET gradient_boosted_trees.cc:1911] \"selective_gradient_boosting_ratio\" set but \"sampling_method\" not equal to \"SELGB\".\n"
     ]
    },
    {
     "name": "stdout",
     "output_type": "stream",
     "text": [
      "i:13\n"
     ]
    },
    {
     "name": "stderr",
     "output_type": "stream",
     "text": [
      "[INFO 24-01-26 19:53:10.5104 CET kernel.cc:1233] Loading model from path /tmp/tmpqh2e_vi2/model/ with prefix 0eb8f100819a43d3\n",
      "[INFO 24-01-26 19:53:10.5127 CET kernel.cc:1061] Use fast generic engine\n",
      "[WARNING 24-01-26 19:53:10.6635 CET gradient_boosted_trees.cc:1886] \"goss_alpha\" set but \"sampling_method\" not equal to \"GOSS\".\n",
      "[WARNING 24-01-26 19:53:10.6635 CET gradient_boosted_trees.cc:1897] \"goss_beta\" set but \"sampling_method\" not equal to \"GOSS\".\n",
      "[WARNING 24-01-26 19:53:10.6635 CET gradient_boosted_trees.cc:1911] \"selective_gradient_boosting_ratio\" set but \"sampling_method\" not equal to \"SELGB\".\n"
     ]
    },
    {
     "name": "stdout",
     "output_type": "stream",
     "text": [
      "i:14\n"
     ]
    },
    {
     "name": "stderr",
     "output_type": "stream",
     "text": [
      "[INFO 24-01-26 19:53:10.8937 CET kernel.cc:1233] Loading model from path /tmp/tmprpgl_68r/model/ with prefix e066cd88bc174b2b\n",
      "[INFO 24-01-26 19:53:10.8950 CET kernel.cc:1061] Use fast generic engine\n",
      "[WARNING 24-01-26 19:53:11.0498 CET gradient_boosted_trees.cc:1886] \"goss_alpha\" set but \"sampling_method\" not equal to \"GOSS\".\n",
      "[WARNING 24-01-26 19:53:11.0498 CET gradient_boosted_trees.cc:1897] \"goss_beta\" set but \"sampling_method\" not equal to \"GOSS\".\n",
      "[WARNING 24-01-26 19:53:11.0498 CET gradient_boosted_trees.cc:1911] \"selective_gradient_boosting_ratio\" set but \"sampling_method\" not equal to \"SELGB\".\n"
     ]
    },
    {
     "name": "stdout",
     "output_type": "stream",
     "text": [
      "i:15\n"
     ]
    },
    {
     "name": "stderr",
     "output_type": "stream",
     "text": [
      "[INFO 24-01-26 19:53:11.2964 CET kernel.cc:1233] Loading model from path /tmp/tmpor395kn3/model/ with prefix 9b66ad30ee734a6d\n",
      "[INFO 24-01-26 19:53:11.2978 CET kernel.cc:1061] Use fast generic engine\n",
      "[WARNING 24-01-26 19:53:11.4547 CET gradient_boosted_trees.cc:1886] \"goss_alpha\" set but \"sampling_method\" not equal to \"GOSS\".\n",
      "[WARNING 24-01-26 19:53:11.4548 CET gradient_boosted_trees.cc:1897] \"goss_beta\" set but \"sampling_method\" not equal to \"GOSS\".\n",
      "[WARNING 24-01-26 19:53:11.4548 CET gradient_boosted_trees.cc:1911] \"selective_gradient_boosting_ratio\" set but \"sampling_method\" not equal to \"SELGB\".\n"
     ]
    },
    {
     "name": "stdout",
     "output_type": "stream",
     "text": [
      "i:16\n"
     ]
    },
    {
     "name": "stderr",
     "output_type": "stream",
     "text": [
      "[INFO 24-01-26 19:53:11.7668 CET kernel.cc:1233] Loading model from path /tmp/tmpr3y5c3p4/model/ with prefix ca93d21e4afb4685\n",
      "[INFO 24-01-26 19:53:11.7694 CET kernel.cc:1061] Use fast generic engine\n",
      "[WARNING 24-01-26 19:53:11.9361 CET gradient_boosted_trees.cc:1886] \"goss_alpha\" set but \"sampling_method\" not equal to \"GOSS\".\n",
      "[WARNING 24-01-26 19:53:11.9361 CET gradient_boosted_trees.cc:1897] \"goss_beta\" set but \"sampling_method\" not equal to \"GOSS\".\n",
      "[WARNING 24-01-26 19:53:11.9361 CET gradient_boosted_trees.cc:1911] \"selective_gradient_boosting_ratio\" set but \"sampling_method\" not equal to \"SELGB\".\n"
     ]
    },
    {
     "name": "stdout",
     "output_type": "stream",
     "text": [
      "i:17\n"
     ]
    },
    {
     "name": "stderr",
     "output_type": "stream",
     "text": [
      "[INFO 24-01-26 19:53:12.2564 CET kernel.cc:1233] Loading model from path /tmp/tmpduyrvchj/model/ with prefix 32560cec3e8240b2\n",
      "[INFO 24-01-26 19:53:12.2590 CET kernel.cc:1061] Use fast generic engine\n",
      "[WARNING 24-01-26 19:53:12.4112 CET gradient_boosted_trees.cc:1886] \"goss_alpha\" set but \"sampling_method\" not equal to \"GOSS\".\n",
      "[WARNING 24-01-26 19:53:12.4112 CET gradient_boosted_trees.cc:1897] \"goss_beta\" set but \"sampling_method\" not equal to \"GOSS\".\n",
      "[WARNING 24-01-26 19:53:12.4112 CET gradient_boosted_trees.cc:1911] \"selective_gradient_boosting_ratio\" set but \"sampling_method\" not equal to \"SELGB\".\n"
     ]
    },
    {
     "name": "stdout",
     "output_type": "stream",
     "text": [
      "i:18\n"
     ]
    },
    {
     "name": "stderr",
     "output_type": "stream",
     "text": [
      "[INFO 24-01-26 19:53:12.7099 CET kernel.cc:1233] Loading model from path /tmp/tmp57pqoop8/model/ with prefix 8870b6836605484f\n",
      "[INFO 24-01-26 19:53:12.7122 CET kernel.cc:1061] Use fast generic engine\n",
      "[WARNING 24-01-26 19:53:12.8686 CET gradient_boosted_trees.cc:1886] \"goss_alpha\" set but \"sampling_method\" not equal to \"GOSS\".\n",
      "[WARNING 24-01-26 19:53:12.8686 CET gradient_boosted_trees.cc:1897] \"goss_beta\" set but \"sampling_method\" not equal to \"GOSS\".\n",
      "[WARNING 24-01-26 19:53:12.8686 CET gradient_boosted_trees.cc:1911] \"selective_gradient_boosting_ratio\" set but \"sampling_method\" not equal to \"SELGB\".\n"
     ]
    },
    {
     "name": "stdout",
     "output_type": "stream",
     "text": [
      "i:19\n"
     ]
    },
    {
     "name": "stderr",
     "output_type": "stream",
     "text": [
      "[INFO 24-01-26 19:53:13.2623 CET kernel.cc:1233] Loading model from path /tmp/tmpfj2i5mee/model/ with prefix 51a3aafd70c54a52\n",
      "[INFO 24-01-26 19:53:13.2660 CET kernel.cc:1061] Use fast generic engine\n",
      "[WARNING 24-01-26 19:53:13.4214 CET gradient_boosted_trees.cc:1886] \"goss_alpha\" set but \"sampling_method\" not equal to \"GOSS\".\n",
      "[WARNING 24-01-26 19:53:13.4214 CET gradient_boosted_trees.cc:1897] \"goss_beta\" set but \"sampling_method\" not equal to \"GOSS\".\n",
      "[WARNING 24-01-26 19:53:13.4214 CET gradient_boosted_trees.cc:1911] \"selective_gradient_boosting_ratio\" set but \"sampling_method\" not equal to \"SELGB\".\n"
     ]
    },
    {
     "name": "stdout",
     "output_type": "stream",
     "text": [
      "i:20\n"
     ]
    },
    {
     "name": "stderr",
     "output_type": "stream",
     "text": [
      "[INFO 24-01-26 19:53:13.7588 CET kernel.cc:1233] Loading model from path /tmp/tmp4pcfqbev/model/ with prefix 788f4d5360114c4d\n",
      "[INFO 24-01-26 19:53:13.7619 CET kernel.cc:1061] Use fast generic engine\n",
      "[WARNING 24-01-26 19:53:13.9209 CET gradient_boosted_trees.cc:1886] \"goss_alpha\" set but \"sampling_method\" not equal to \"GOSS\".\n",
      "[WARNING 24-01-26 19:53:13.9209 CET gradient_boosted_trees.cc:1897] \"goss_beta\" set but \"sampling_method\" not equal to \"GOSS\".\n",
      "[WARNING 24-01-26 19:53:13.9209 CET gradient_boosted_trees.cc:1911] \"selective_gradient_boosting_ratio\" set but \"sampling_method\" not equal to \"SELGB\".\n"
     ]
    },
    {
     "name": "stdout",
     "output_type": "stream",
     "text": [
      "i:21\n"
     ]
    },
    {
     "name": "stderr",
     "output_type": "stream",
     "text": [
      "[INFO 24-01-26 19:53:14.1427 CET kernel.cc:1233] Loading model from path /tmp/tmp7r7eiogw/model/ with prefix ecaf7bc5666c4ce4\n",
      "[INFO 24-01-26 19:53:14.1438 CET kernel.cc:1061] Use fast generic engine\n",
      "[WARNING 24-01-26 19:53:14.3013 CET gradient_boosted_trees.cc:1886] \"goss_alpha\" set but \"sampling_method\" not equal to \"GOSS\".\n",
      "[WARNING 24-01-26 19:53:14.3013 CET gradient_boosted_trees.cc:1897] \"goss_beta\" set but \"sampling_method\" not equal to \"GOSS\".\n",
      "[WARNING 24-01-26 19:53:14.3013 CET gradient_boosted_trees.cc:1911] \"selective_gradient_boosting_ratio\" set but \"sampling_method\" not equal to \"SELGB\".\n"
     ]
    },
    {
     "name": "stdout",
     "output_type": "stream",
     "text": [
      "i:22\n"
     ]
    },
    {
     "name": "stderr",
     "output_type": "stream",
     "text": [
      "[INFO 24-01-26 19:53:14.5295 CET kernel.cc:1233] Loading model from path /tmp/tmp687_p_4x/model/ with prefix 6046168773564619\n",
      "[INFO 24-01-26 19:53:14.5306 CET abstract_model.cc:1344] Engine \"GradientBoostedTreesQuickScorerExtended\" built\n",
      "[INFO 24-01-26 19:53:14.5307 CET kernel.cc:1061] Use fast generic engine\n",
      "[WARNING 24-01-26 19:53:14.6832 CET gradient_boosted_trees.cc:1886] \"goss_alpha\" set but \"sampling_method\" not equal to \"GOSS\".\n",
      "[WARNING 24-01-26 19:53:14.6832 CET gradient_boosted_trees.cc:1897] \"goss_beta\" set but \"sampling_method\" not equal to \"GOSS\".\n",
      "[WARNING 24-01-26 19:53:14.6832 CET gradient_boosted_trees.cc:1911] \"selective_gradient_boosting_ratio\" set but \"sampling_method\" not equal to \"SELGB\".\n"
     ]
    },
    {
     "name": "stdout",
     "output_type": "stream",
     "text": [
      "i:23\n"
     ]
    },
    {
     "name": "stderr",
     "output_type": "stream",
     "text": [
      "[INFO 24-01-26 19:53:14.9569 CET kernel.cc:1233] Loading model from path /tmp/tmpbstezqth/model/ with prefix f73851fa7ce04934\n",
      "[INFO 24-01-26 19:53:14.9588 CET kernel.cc:1061] Use fast generic engine\n",
      "[WARNING 24-01-26 19:53:15.1134 CET gradient_boosted_trees.cc:1886] \"goss_alpha\" set but \"sampling_method\" not equal to \"GOSS\".\n",
      "[WARNING 24-01-26 19:53:15.1134 CET gradient_boosted_trees.cc:1897] \"goss_beta\" set but \"sampling_method\" not equal to \"GOSS\".\n",
      "[WARNING 24-01-26 19:53:15.1134 CET gradient_boosted_trees.cc:1911] \"selective_gradient_boosting_ratio\" set but \"sampling_method\" not equal to \"SELGB\".\n"
     ]
    },
    {
     "name": "stdout",
     "output_type": "stream",
     "text": [
      "i:24\n"
     ]
    },
    {
     "name": "stderr",
     "output_type": "stream",
     "text": [
      "[INFO 24-01-26 19:53:15.3581 CET kernel.cc:1233] Loading model from path /tmp/tmpsfauzx2a/model/ with prefix c1c2702c19104650\n",
      "[INFO 24-01-26 19:53:15.3597 CET kernel.cc:1061] Use fast generic engine\n",
      "[WARNING 24-01-26 19:53:15.5296 CET gradient_boosted_trees.cc:1886] \"goss_alpha\" set but \"sampling_method\" not equal to \"GOSS\".\n",
      "[WARNING 24-01-26 19:53:15.5296 CET gradient_boosted_trees.cc:1897] \"goss_beta\" set but \"sampling_method\" not equal to \"GOSS\".\n",
      "[WARNING 24-01-26 19:53:15.5296 CET gradient_boosted_trees.cc:1911] \"selective_gradient_boosting_ratio\" set but \"sampling_method\" not equal to \"SELGB\".\n"
     ]
    },
    {
     "name": "stdout",
     "output_type": "stream",
     "text": [
      "i:25\n"
     ]
    },
    {
     "name": "stderr",
     "output_type": "stream",
     "text": [
      "[INFO 24-01-26 19:53:15.8394 CET kernel.cc:1233] Loading model from path /tmp/tmp5u177k8r/model/ with prefix af01aeffc60f4007\n",
      "[INFO 24-01-26 19:53:15.8417 CET kernel.cc:1061] Use fast generic engine\n",
      "[WARNING 24-01-26 19:53:16.0011 CET gradient_boosted_trees.cc:1886] \"goss_alpha\" set but \"sampling_method\" not equal to \"GOSS\".\n",
      "[WARNING 24-01-26 19:53:16.0011 CET gradient_boosted_trees.cc:1897] \"goss_beta\" set but \"sampling_method\" not equal to \"GOSS\".\n",
      "[WARNING 24-01-26 19:53:16.0011 CET gradient_boosted_trees.cc:1911] \"selective_gradient_boosting_ratio\" set but \"sampling_method\" not equal to \"SELGB\".\n"
     ]
    },
    {
     "name": "stdout",
     "output_type": "stream",
     "text": [
      "i:26\n"
     ]
    },
    {
     "name": "stderr",
     "output_type": "stream",
     "text": [
      "[INFO 24-01-26 19:53:16.2807 CET kernel.cc:1233] Loading model from path /tmp/tmpt4m3hpyc/model/ with prefix 562bc3fa48dd4330\n",
      "[INFO 24-01-26 19:53:16.2828 CET kernel.cc:1061] Use fast generic engine\n",
      "[WARNING 24-01-26 19:53:16.4513 CET gradient_boosted_trees.cc:1886] \"goss_alpha\" set but \"sampling_method\" not equal to \"GOSS\".\n",
      "[WARNING 24-01-26 19:53:16.4513 CET gradient_boosted_trees.cc:1897] \"goss_beta\" set but \"sampling_method\" not equal to \"GOSS\".\n",
      "[WARNING 24-01-26 19:53:16.4513 CET gradient_boosted_trees.cc:1911] \"selective_gradient_boosting_ratio\" set but \"sampling_method\" not equal to \"SELGB\".\n"
     ]
    },
    {
     "name": "stdout",
     "output_type": "stream",
     "text": [
      "i:27\n"
     ]
    },
    {
     "name": "stderr",
     "output_type": "stream",
     "text": [
      "[INFO 24-01-26 19:53:16.7022 CET kernel.cc:1233] Loading model from path /tmp/tmpc43c8k64/model/ with prefix ed951015d6cd4540\n",
      "[INFO 24-01-26 19:53:16.7036 CET kernel.cc:1061] Use fast generic engine\n",
      "[WARNING 24-01-26 19:53:16.8756 CET gradient_boosted_trees.cc:1886] \"goss_alpha\" set but \"sampling_method\" not equal to \"GOSS\".\n",
      "[WARNING 24-01-26 19:53:16.8756 CET gradient_boosted_trees.cc:1897] \"goss_beta\" set but \"sampling_method\" not equal to \"GOSS\".\n",
      "[WARNING 24-01-26 19:53:16.8756 CET gradient_boosted_trees.cc:1911] \"selective_gradient_boosting_ratio\" set but \"sampling_method\" not equal to \"SELGB\".\n"
     ]
    },
    {
     "name": "stdout",
     "output_type": "stream",
     "text": [
      "i:28\n"
     ]
    },
    {
     "name": "stderr",
     "output_type": "stream",
     "text": [
      "[INFO 24-01-26 19:53:17.1027 CET kernel.cc:1233] Loading model from path /tmp/tmptw7au3li/model/ with prefix 2b4c6f892f674722\n",
      "[INFO 24-01-26 19:53:17.1039 CET kernel.cc:1061] Use fast generic engine\n",
      "[WARNING 24-01-26 19:53:17.2733 CET gradient_boosted_trees.cc:1886] \"goss_alpha\" set but \"sampling_method\" not equal to \"GOSS\".\n",
      "[WARNING 24-01-26 19:53:17.2733 CET gradient_boosted_trees.cc:1897] \"goss_beta\" set but \"sampling_method\" not equal to \"GOSS\".\n",
      "[WARNING 24-01-26 19:53:17.2733 CET gradient_boosted_trees.cc:1911] \"selective_gradient_boosting_ratio\" set but \"sampling_method\" not equal to \"SELGB\".\n"
     ]
    },
    {
     "name": "stdout",
     "output_type": "stream",
     "text": [
      "i:29\n"
     ]
    },
    {
     "name": "stderr",
     "output_type": "stream",
     "text": [
      "[INFO 24-01-26 19:53:17.5996 CET kernel.cc:1233] Loading model from path /tmp/tmp7_iwljnz/model/ with prefix 3ec2e6d0c649419a\n",
      "[INFO 24-01-26 19:53:17.6024 CET kernel.cc:1061] Use fast generic engine\n",
      "[WARNING 24-01-26 19:53:17.7634 CET gradient_boosted_trees.cc:1886] \"goss_alpha\" set but \"sampling_method\" not equal to \"GOSS\".\n",
      "[WARNING 24-01-26 19:53:17.7634 CET gradient_boosted_trees.cc:1897] \"goss_beta\" set but \"sampling_method\" not equal to \"GOSS\".\n",
      "[WARNING 24-01-26 19:53:17.7634 CET gradient_boosted_trees.cc:1911] \"selective_gradient_boosting_ratio\" set but \"sampling_method\" not equal to \"SELGB\".\n"
     ]
    },
    {
     "name": "stdout",
     "output_type": "stream",
     "text": [
      "i:30\n"
     ]
    },
    {
     "name": "stderr",
     "output_type": "stream",
     "text": [
      "[INFO 24-01-26 19:53:18.2312 CET kernel.cc:1233] Loading model from path /tmp/tmp7yc27jad/model/ with prefix 00a4416a8fb143b5\n",
      "[INFO 24-01-26 19:53:18.2367 CET kernel.cc:1061] Use fast generic engine\n",
      "[WARNING 24-01-26 19:53:18.3986 CET gradient_boosted_trees.cc:1886] \"goss_alpha\" set but \"sampling_method\" not equal to \"GOSS\".\n",
      "[WARNING 24-01-26 19:53:18.3986 CET gradient_boosted_trees.cc:1897] \"goss_beta\" set but \"sampling_method\" not equal to \"GOSS\".\n",
      "[WARNING 24-01-26 19:53:18.3986 CET gradient_boosted_trees.cc:1911] \"selective_gradient_boosting_ratio\" set but \"sampling_method\" not equal to \"SELGB\".\n"
     ]
    },
    {
     "name": "stdout",
     "output_type": "stream",
     "text": [
      "i:31\n"
     ]
    },
    {
     "name": "stderr",
     "output_type": "stream",
     "text": [
      "[INFO 24-01-26 19:53:18.6950 CET kernel.cc:1233] Loading model from path /tmp/tmppk_jw8yk/model/ with prefix 400c7a939ed44a4b\n",
      "[INFO 24-01-26 19:53:18.6972 CET kernel.cc:1061] Use fast generic engine\n",
      "[WARNING 24-01-26 19:53:18.8737 CET gradient_boosted_trees.cc:1886] \"goss_alpha\" set but \"sampling_method\" not equal to \"GOSS\".\n",
      "[WARNING 24-01-26 19:53:18.8737 CET gradient_boosted_trees.cc:1897] \"goss_beta\" set but \"sampling_method\" not equal to \"GOSS\".\n",
      "[WARNING 24-01-26 19:53:18.8737 CET gradient_boosted_trees.cc:1911] \"selective_gradient_boosting_ratio\" set but \"sampling_method\" not equal to \"SELGB\".\n"
     ]
    },
    {
     "name": "stdout",
     "output_type": "stream",
     "text": [
      "i:32\n"
     ]
    },
    {
     "name": "stderr",
     "output_type": "stream",
     "text": [
      "[INFO 24-01-26 19:53:19.1120 CET kernel.cc:1233] Loading model from path /tmp/tmpf9pit5t6/model/ with prefix 7529b0583f354d27\n",
      "[INFO 24-01-26 19:53:19.1132 CET kernel.cc:1061] Use fast generic engine\n",
      "[WARNING 24-01-26 19:53:19.2707 CET gradient_boosted_trees.cc:1886] \"goss_alpha\" set but \"sampling_method\" not equal to \"GOSS\".\n",
      "[WARNING 24-01-26 19:53:19.2708 CET gradient_boosted_trees.cc:1897] \"goss_beta\" set but \"sampling_method\" not equal to \"GOSS\".\n",
      "[WARNING 24-01-26 19:53:19.2708 CET gradient_boosted_trees.cc:1911] \"selective_gradient_boosting_ratio\" set but \"sampling_method\" not equal to \"SELGB\".\n"
     ]
    },
    {
     "name": "stdout",
     "output_type": "stream",
     "text": [
      "i:33\n"
     ]
    },
    {
     "name": "stderr",
     "output_type": "stream",
     "text": [
      "[INFO 24-01-26 19:53:19.6086 CET kernel.cc:1233] Loading model from path /tmp/tmpjy67nv0x/model/ with prefix 9bafe292590e48d5\n",
      "[INFO 24-01-26 19:53:19.6117 CET kernel.cc:1061] Use fast generic engine\n",
      "[WARNING 24-01-26 19:53:19.7837 CET gradient_boosted_trees.cc:1886] \"goss_alpha\" set but \"sampling_method\" not equal to \"GOSS\".\n",
      "[WARNING 24-01-26 19:53:19.7837 CET gradient_boosted_trees.cc:1897] \"goss_beta\" set but \"sampling_method\" not equal to \"GOSS\".\n",
      "[WARNING 24-01-26 19:53:19.7837 CET gradient_boosted_trees.cc:1911] \"selective_gradient_boosting_ratio\" set but \"sampling_method\" not equal to \"SELGB\".\n"
     ]
    },
    {
     "name": "stdout",
     "output_type": "stream",
     "text": [
      "i:34\n"
     ]
    },
    {
     "name": "stderr",
     "output_type": "stream",
     "text": [
      "[INFO 24-01-26 19:53:20.0593 CET kernel.cc:1233] Loading model from path /tmp/tmpg98r2gjz/model/ with prefix cfc73262534f4428\n",
      "[INFO 24-01-26 19:53:20.0612 CET kernel.cc:1061] Use fast generic engine\n",
      "[WARNING 24-01-26 19:53:20.2306 CET gradient_boosted_trees.cc:1886] \"goss_alpha\" set but \"sampling_method\" not equal to \"GOSS\".\n",
      "[WARNING 24-01-26 19:53:20.2306 CET gradient_boosted_trees.cc:1897] \"goss_beta\" set but \"sampling_method\" not equal to \"GOSS\".\n",
      "[WARNING 24-01-26 19:53:20.2306 CET gradient_boosted_trees.cc:1911] \"selective_gradient_boosting_ratio\" set but \"sampling_method\" not equal to \"SELGB\".\n"
     ]
    },
    {
     "name": "stdout",
     "output_type": "stream",
     "text": [
      "i:35\n"
     ]
    },
    {
     "name": "stderr",
     "output_type": "stream",
     "text": [
      "[INFO 24-01-26 19:53:20.4935 CET kernel.cc:1233] Loading model from path /tmp/tmpb0f2455y/model/ with prefix 5b353ccd35aa4bea\n",
      "[INFO 24-01-26 19:53:20.4954 CET kernel.cc:1061] Use fast generic engine\n",
      "[WARNING 24-01-26 19:53:20.6644 CET gradient_boosted_trees.cc:1886] \"goss_alpha\" set but \"sampling_method\" not equal to \"GOSS\".\n",
      "[WARNING 24-01-26 19:53:20.6645 CET gradient_boosted_trees.cc:1897] \"goss_beta\" set but \"sampling_method\" not equal to \"GOSS\".\n",
      "[WARNING 24-01-26 19:53:20.6645 CET gradient_boosted_trees.cc:1911] \"selective_gradient_boosting_ratio\" set but \"sampling_method\" not equal to \"SELGB\".\n"
     ]
    },
    {
     "name": "stdout",
     "output_type": "stream",
     "text": [
      "i:36\n"
     ]
    },
    {
     "name": "stderr",
     "output_type": "stream",
     "text": [
      "[INFO 24-01-26 19:53:21.0097 CET kernel.cc:1233] Loading model from path /tmp/tmp7vccij5n/model/ with prefix b3819011d57c4689\n",
      "[INFO 24-01-26 19:53:21.0125 CET kernel.cc:1061] Use fast generic engine\n",
      "[WARNING 24-01-26 19:53:21.1714 CET gradient_boosted_trees.cc:1886] \"goss_alpha\" set but \"sampling_method\" not equal to \"GOSS\".\n",
      "[WARNING 24-01-26 19:53:21.1714 CET gradient_boosted_trees.cc:1897] \"goss_beta\" set but \"sampling_method\" not equal to \"GOSS\".\n",
      "[WARNING 24-01-26 19:53:21.1714 CET gradient_boosted_trees.cc:1911] \"selective_gradient_boosting_ratio\" set but \"sampling_method\" not equal to \"SELGB\".\n"
     ]
    },
    {
     "name": "stdout",
     "output_type": "stream",
     "text": [
      "i:37\n"
     ]
    },
    {
     "name": "stderr",
     "output_type": "stream",
     "text": [
      "[INFO 24-01-26 19:53:21.4463 CET kernel.cc:1233] Loading model from path /tmp/tmp3_qp3qe_/model/ with prefix a094a734cbda4804\n",
      "[INFO 24-01-26 19:53:21.4482 CET kernel.cc:1061] Use fast generic engine\n",
      "[WARNING 24-01-26 19:53:21.6053 CET gradient_boosted_trees.cc:1886] \"goss_alpha\" set but \"sampling_method\" not equal to \"GOSS\".\n",
      "[WARNING 24-01-26 19:53:21.6053 CET gradient_boosted_trees.cc:1897] \"goss_beta\" set but \"sampling_method\" not equal to \"GOSS\".\n",
      "[WARNING 24-01-26 19:53:21.6053 CET gradient_boosted_trees.cc:1911] \"selective_gradient_boosting_ratio\" set but \"sampling_method\" not equal to \"SELGB\".\n"
     ]
    },
    {
     "name": "stdout",
     "output_type": "stream",
     "text": [
      "i:38\n"
     ]
    },
    {
     "name": "stderr",
     "output_type": "stream",
     "text": [
      "[INFO 24-01-26 19:53:21.9301 CET kernel.cc:1233] Loading model from path /tmp/tmppv6z7o5d/model/ with prefix e3479f8ac2f24d87\n",
      "[INFO 24-01-26 19:53:21.9327 CET quick_scorer_extended.cc:903] The binary was compiled without AVX2 support, but your CPU supports it. Enable it for faster model inference.\n",
      "[INFO 24-01-26 19:53:21.9330 CET kernel.cc:1061] Use fast generic engine\n",
      "[WARNING 24-01-26 19:53:22.1099 CET gradient_boosted_trees.cc:1886] \"goss_alpha\" set but \"sampling_method\" not equal to \"GOSS\".\n",
      "[WARNING 24-01-26 19:53:22.1099 CET gradient_boosted_trees.cc:1897] \"goss_beta\" set but \"sampling_method\" not equal to \"GOSS\".\n",
      "[WARNING 24-01-26 19:53:22.1099 CET gradient_boosted_trees.cc:1911] \"selective_gradient_boosting_ratio\" set but \"sampling_method\" not equal to \"SELGB\".\n"
     ]
    },
    {
     "name": "stdout",
     "output_type": "stream",
     "text": [
      "i:39\n"
     ]
    },
    {
     "name": "stderr",
     "output_type": "stream",
     "text": [
      "[INFO 24-01-26 19:53:22.4491 CET kernel.cc:1233] Loading model from path /tmp/tmpucdp2mvh/model/ with prefix 2b3dcaad79fa46bb\n",
      "[INFO 24-01-26 19:53:22.4518 CET kernel.cc:1061] Use fast generic engine\n",
      "[WARNING 24-01-26 19:53:22.6204 CET gradient_boosted_trees.cc:1886] \"goss_alpha\" set but \"sampling_method\" not equal to \"GOSS\".\n",
      "[WARNING 24-01-26 19:53:22.6204 CET gradient_boosted_trees.cc:1897] \"goss_beta\" set but \"sampling_method\" not equal to \"GOSS\".\n",
      "[WARNING 24-01-26 19:53:22.6205 CET gradient_boosted_trees.cc:1911] \"selective_gradient_boosting_ratio\" set but \"sampling_method\" not equal to \"SELGB\".\n"
     ]
    },
    {
     "name": "stdout",
     "output_type": "stream",
     "text": [
      "i:40\n"
     ]
    },
    {
     "name": "stderr",
     "output_type": "stream",
     "text": [
      "[INFO 24-01-26 19:53:22.8407 CET kernel.cc:1233] Loading model from path /tmp/tmp7la0_8lq/model/ with prefix 4e500f9bca9a4b98\n",
      "[INFO 24-01-26 19:53:22.8416 CET kernel.cc:1061] Use fast generic engine\n"
     ]
    },
    {
     "name": "stdout",
     "output_type": "stream",
     "text": [
      "i:41\n"
     ]
    },
    {
     "name": "stderr",
     "output_type": "stream",
     "text": [
      "[WARNING 24-01-26 19:53:23.4330 CET gradient_boosted_trees.cc:1886] \"goss_alpha\" set but \"sampling_method\" not equal to \"GOSS\".\n",
      "[WARNING 24-01-26 19:53:23.4330 CET gradient_boosted_trees.cc:1897] \"goss_beta\" set but \"sampling_method\" not equal to \"GOSS\".\n",
      "[WARNING 24-01-26 19:53:23.4330 CET gradient_boosted_trees.cc:1911] \"selective_gradient_boosting_ratio\" set but \"sampling_method\" not equal to \"SELGB\".\n",
      "[INFO 24-01-26 19:53:23.8080 CET kernel.cc:1233] Loading model from path /tmp/tmps5z2bn6p/model/ with prefix 7601a033a74a4c4d\n",
      "[INFO 24-01-26 19:53:23.8128 CET kernel.cc:1061] Use fast generic engine\n",
      "[WARNING 24-01-26 19:53:24.0053 CET gradient_boosted_trees.cc:1886] \"goss_alpha\" set but \"sampling_method\" not equal to \"GOSS\".\n",
      "[WARNING 24-01-26 19:53:24.0053 CET gradient_boosted_trees.cc:1897] \"goss_beta\" set but \"sampling_method\" not equal to \"GOSS\".\n",
      "[WARNING 24-01-26 19:53:24.0053 CET gradient_boosted_trees.cc:1911] \"selective_gradient_boosting_ratio\" set but \"sampling_method\" not equal to \"SELGB\".\n"
     ]
    },
    {
     "name": "stdout",
     "output_type": "stream",
     "text": [
      "i:42\n"
     ]
    },
    {
     "name": "stderr",
     "output_type": "stream",
     "text": [
      "[INFO 24-01-26 19:53:24.2896 CET kernel.cc:1233] Loading model from path /tmp/tmpkobptfxv/model/ with prefix 8c65735b284f477d\n",
      "[INFO 24-01-26 19:53:24.2923 CET kernel.cc:1061] Use fast generic engine\n",
      "[WARNING 24-01-26 19:53:24.4645 CET gradient_boosted_trees.cc:1886] \"goss_alpha\" set but \"sampling_method\" not equal to \"GOSS\".\n",
      "[WARNING 24-01-26 19:53:24.4645 CET gradient_boosted_trees.cc:1897] \"goss_beta\" set but \"sampling_method\" not equal to \"GOSS\".\n",
      "[WARNING 24-01-26 19:53:24.4645 CET gradient_boosted_trees.cc:1911] \"selective_gradient_boosting_ratio\" set but \"sampling_method\" not equal to \"SELGB\".\n"
     ]
    },
    {
     "name": "stdout",
     "output_type": "stream",
     "text": [
      "i:43\n"
     ]
    },
    {
     "name": "stderr",
     "output_type": "stream",
     "text": [
      "[INFO 24-01-26 19:53:24.8519 CET kernel.cc:1233] Loading model from path /tmp/tmpu0u5j_o8/model/ with prefix 37e41116a3084abd\n",
      "[INFO 24-01-26 19:53:24.8570 CET abstract_model.cc:1344] Engine \"GradientBoostedTreesQuickScorerExtended\" built\n",
      "[INFO 24-01-26 19:53:24.8571 CET kernel.cc:1061] Use fast generic engine\n"
     ]
    },
    {
     "name": "stdout",
     "output_type": "stream",
     "text": [
      "i:44\n"
     ]
    },
    {
     "name": "stderr",
     "output_type": "stream",
     "text": [
      "[WARNING 24-01-26 19:53:25.0634 CET gradient_boosted_trees.cc:1886] \"goss_alpha\" set but \"sampling_method\" not equal to \"GOSS\".\n",
      "[WARNING 24-01-26 19:53:25.0634 CET gradient_boosted_trees.cc:1897] \"goss_beta\" set but \"sampling_method\" not equal to \"GOSS\".\n",
      "[WARNING 24-01-26 19:53:25.0634 CET gradient_boosted_trees.cc:1911] \"selective_gradient_boosting_ratio\" set but \"sampling_method\" not equal to \"SELGB\".\n",
      "[INFO 24-01-26 19:53:25.3593 CET kernel.cc:1233] Loading model from path /tmp/tmpd5na9rvz/model/ with prefix acc23ec8b676417a\n",
      "[INFO 24-01-26 19:53:25.3616 CET kernel.cc:1061] Use fast generic engine\n",
      "[WARNING 24-01-26 19:53:25.5280 CET gradient_boosted_trees.cc:1886] \"goss_alpha\" set but \"sampling_method\" not equal to \"GOSS\".\n",
      "[WARNING 24-01-26 19:53:25.5280 CET gradient_boosted_trees.cc:1897] \"goss_beta\" set but \"sampling_method\" not equal to \"GOSS\".\n",
      "[WARNING 24-01-26 19:53:25.5281 CET gradient_boosted_trees.cc:1911] \"selective_gradient_boosting_ratio\" set but \"sampling_method\" not equal to \"SELGB\".\n"
     ]
    },
    {
     "name": "stdout",
     "output_type": "stream",
     "text": [
      "i:45\n"
     ]
    },
    {
     "name": "stderr",
     "output_type": "stream",
     "text": [
      "[INFO 24-01-26 19:53:25.7527 CET kernel.cc:1233] Loading model from path /tmp/tmp42l6cbhq/model/ with prefix 00fe8b127f6648d3\n",
      "[INFO 24-01-26 19:53:25.7535 CET kernel.cc:1061] Use fast generic engine\n",
      "[WARNING 24-01-26 19:53:25.9380 CET gradient_boosted_trees.cc:1886] \"goss_alpha\" set but \"sampling_method\" not equal to \"GOSS\".\n",
      "[WARNING 24-01-26 19:53:25.9381 CET gradient_boosted_trees.cc:1897] \"goss_beta\" set but \"sampling_method\" not equal to \"GOSS\".\n",
      "[WARNING 24-01-26 19:53:25.9381 CET gradient_boosted_trees.cc:1911] \"selective_gradient_boosting_ratio\" set but \"sampling_method\" not equal to \"SELGB\".\n"
     ]
    },
    {
     "name": "stdout",
     "output_type": "stream",
     "text": [
      "i:46\n"
     ]
    },
    {
     "name": "stderr",
     "output_type": "stream",
     "text": [
      "[INFO 24-01-26 19:53:26.3076 CET kernel.cc:1233] Loading model from path /tmp/tmpffexck33/model/ with prefix c2cabcc8491f40ee\n",
      "[INFO 24-01-26 19:53:26.3114 CET kernel.cc:1061] Use fast generic engine\n",
      "[WARNING 24-01-26 19:53:26.4896 CET gradient_boosted_trees.cc:1886] \"goss_alpha\" set but \"sampling_method\" not equal to \"GOSS\".\n",
      "[WARNING 24-01-26 19:53:26.4896 CET gradient_boosted_trees.cc:1897] \"goss_beta\" set but \"sampling_method\" not equal to \"GOSS\".\n",
      "[WARNING 24-01-26 19:53:26.4896 CET gradient_boosted_trees.cc:1911] \"selective_gradient_boosting_ratio\" set but \"sampling_method\" not equal to \"SELGB\".\n"
     ]
    },
    {
     "name": "stdout",
     "output_type": "stream",
     "text": [
      "i:47\n"
     ]
    },
    {
     "name": "stderr",
     "output_type": "stream",
     "text": [
      "[INFO 24-01-26 19:53:26.8181 CET kernel.cc:1233] Loading model from path /tmp/tmpdimcftuz/model/ with prefix b5662e9e7d2b4057\n",
      "[INFO 24-01-26 19:53:26.8212 CET kernel.cc:1061] Use fast generic engine\n",
      "[WARNING 24-01-26 19:53:26.9819 CET gradient_boosted_trees.cc:1886] \"goss_alpha\" set but \"sampling_method\" not equal to \"GOSS\".\n",
      "[WARNING 24-01-26 19:53:26.9819 CET gradient_boosted_trees.cc:1897] \"goss_beta\" set but \"sampling_method\" not equal to \"GOSS\".\n",
      "[WARNING 24-01-26 19:53:26.9819 CET gradient_boosted_trees.cc:1911] \"selective_gradient_boosting_ratio\" set but \"sampling_method\" not equal to \"SELGB\".\n"
     ]
    },
    {
     "name": "stdout",
     "output_type": "stream",
     "text": [
      "i:48\n"
     ]
    },
    {
     "name": "stderr",
     "output_type": "stream",
     "text": [
      "[INFO 24-01-26 19:53:27.1949 CET kernel.cc:1233] Loading model from path /tmp/tmphjge1ix3/model/ with prefix 63d677ba93ef4820\n",
      "[INFO 24-01-26 19:53:27.1959 CET kernel.cc:1061] Use fast generic engine\n",
      "[WARNING 24-01-26 19:53:27.3559 CET gradient_boosted_trees.cc:1886] \"goss_alpha\" set but \"sampling_method\" not equal to \"GOSS\".\n",
      "[WARNING 24-01-26 19:53:27.3559 CET gradient_boosted_trees.cc:1897] \"goss_beta\" set but \"sampling_method\" not equal to \"GOSS\".\n",
      "[WARNING 24-01-26 19:53:27.3559 CET gradient_boosted_trees.cc:1911] \"selective_gradient_boosting_ratio\" set but \"sampling_method\" not equal to \"SELGB\".\n"
     ]
    },
    {
     "name": "stdout",
     "output_type": "stream",
     "text": [
      "i:49\n"
     ]
    },
    {
     "name": "stderr",
     "output_type": "stream",
     "text": [
      "[INFO 24-01-26 19:53:27.6076 CET kernel.cc:1233] Loading model from path /tmp/tmpxnb09i1b/model/ with prefix 588461bcbffb48fa\n",
      "[INFO 24-01-26 19:53:27.6092 CET kernel.cc:1061] Use fast generic engine\n",
      "[WARNING 24-01-26 19:53:27.7991 CET gradient_boosted_trees.cc:1886] \"goss_alpha\" set but \"sampling_method\" not equal to \"GOSS\".\n",
      "[WARNING 24-01-26 19:53:27.7992 CET gradient_boosted_trees.cc:1897] \"goss_beta\" set but \"sampling_method\" not equal to \"GOSS\".\n",
      "[WARNING 24-01-26 19:53:27.7992 CET gradient_boosted_trees.cc:1911] \"selective_gradient_boosting_ratio\" set but \"sampling_method\" not equal to \"SELGB\".\n"
     ]
    },
    {
     "name": "stdout",
     "output_type": "stream",
     "text": [
      "i:50\n"
     ]
    },
    {
     "name": "stderr",
     "output_type": "stream",
     "text": [
      "[INFO 24-01-26 19:53:28.1048 CET kernel.cc:1233] Loading model from path /tmp/tmpg57krbi4/model/ with prefix 8036988054d449e5\n",
      "[INFO 24-01-26 19:53:28.1073 CET kernel.cc:1061] Use fast generic engine\n",
      "[WARNING 24-01-26 19:53:28.2626 CET gradient_boosted_trees.cc:1886] \"goss_alpha\" set but \"sampling_method\" not equal to \"GOSS\".\n",
      "[WARNING 24-01-26 19:53:28.2627 CET gradient_boosted_trees.cc:1897] \"goss_beta\" set but \"sampling_method\" not equal to \"GOSS\".\n",
      "[WARNING 24-01-26 19:53:28.2627 CET gradient_boosted_trees.cc:1911] \"selective_gradient_boosting_ratio\" set but \"sampling_method\" not equal to \"SELGB\".\n"
     ]
    },
    {
     "name": "stdout",
     "output_type": "stream",
     "text": [
      "i:51\n"
     ]
    },
    {
     "name": "stderr",
     "output_type": "stream",
     "text": [
      "[INFO 24-01-26 19:53:28.6168 CET kernel.cc:1233] Loading model from path /tmp/tmppzirucqa/model/ with prefix 45f5f129500b4c91\n",
      "[INFO 24-01-26 19:53:28.6199 CET kernel.cc:1061] Use fast generic engine\n",
      "[WARNING 24-01-26 19:53:28.7881 CET gradient_boosted_trees.cc:1886] \"goss_alpha\" set but \"sampling_method\" not equal to \"GOSS\".\n",
      "[WARNING 24-01-26 19:53:28.7881 CET gradient_boosted_trees.cc:1897] \"goss_beta\" set but \"sampling_method\" not equal to \"GOSS\".\n",
      "[WARNING 24-01-26 19:53:28.7881 CET gradient_boosted_trees.cc:1911] \"selective_gradient_boosting_ratio\" set but \"sampling_method\" not equal to \"SELGB\".\n"
     ]
    },
    {
     "name": "stdout",
     "output_type": "stream",
     "text": [
      "i:52\n"
     ]
    },
    {
     "name": "stderr",
     "output_type": "stream",
     "text": [
      "[INFO 24-01-26 19:53:29.0733 CET kernel.cc:1233] Loading model from path /tmp/tmpi6fqahi0/model/ with prefix af2db820ed874816\n",
      "[INFO 24-01-26 19:53:29.0750 CET kernel.cc:1061] Use fast generic engine\n",
      "[WARNING 24-01-26 19:53:29.2432 CET gradient_boosted_trees.cc:1886] \"goss_alpha\" set but \"sampling_method\" not equal to \"GOSS\".\n",
      "[WARNING 24-01-26 19:53:29.2432 CET gradient_boosted_trees.cc:1897] \"goss_beta\" set but \"sampling_method\" not equal to \"GOSS\".\n",
      "[WARNING 24-01-26 19:53:29.2432 CET gradient_boosted_trees.cc:1911] \"selective_gradient_boosting_ratio\" set but \"sampling_method\" not equal to \"SELGB\".\n"
     ]
    },
    {
     "name": "stdout",
     "output_type": "stream",
     "text": [
      "i:53\n"
     ]
    },
    {
     "name": "stderr",
     "output_type": "stream",
     "text": [
      "[INFO 24-01-26 19:53:29.4931 CET kernel.cc:1233] Loading model from path /tmp/tmpyih0lhoy/model/ with prefix 4fbbaa5783534fbf\n",
      "[INFO 24-01-26 19:53:29.4946 CET kernel.cc:1061] Use fast generic engine\n",
      "[WARNING 24-01-26 19:53:29.6437 CET gradient_boosted_trees.cc:1886] \"goss_alpha\" set but \"sampling_method\" not equal to \"GOSS\".\n",
      "[WARNING 24-01-26 19:53:29.6437 CET gradient_boosted_trees.cc:1897] \"goss_beta\" set but \"sampling_method\" not equal to \"GOSS\".\n",
      "[WARNING 24-01-26 19:53:29.6437 CET gradient_boosted_trees.cc:1911] \"selective_gradient_boosting_ratio\" set but \"sampling_method\" not equal to \"SELGB\".\n"
     ]
    },
    {
     "name": "stdout",
     "output_type": "stream",
     "text": [
      "i:54\n"
     ]
    },
    {
     "name": "stderr",
     "output_type": "stream",
     "text": [
      "[INFO 24-01-26 19:53:29.8473 CET kernel.cc:1233] Loading model from path /tmp/tmpr3d2o3c4/model/ with prefix 8513a3e510f9493a\n",
      "[INFO 24-01-26 19:53:29.8480 CET kernel.cc:1061] Use fast generic engine\n",
      "[WARNING 24-01-26 19:53:30.0055 CET gradient_boosted_trees.cc:1886] \"goss_alpha\" set but \"sampling_method\" not equal to \"GOSS\".\n",
      "[WARNING 24-01-26 19:53:30.0055 CET gradient_boosted_trees.cc:1897] \"goss_beta\" set but \"sampling_method\" not equal to \"GOSS\".\n",
      "[WARNING 24-01-26 19:53:30.0055 CET gradient_boosted_trees.cc:1911] \"selective_gradient_boosting_ratio\" set but \"sampling_method\" not equal to \"SELGB\".\n"
     ]
    },
    {
     "name": "stdout",
     "output_type": "stream",
     "text": [
      "i:55\n"
     ]
    },
    {
     "name": "stderr",
     "output_type": "stream",
     "text": [
      "[INFO 24-01-26 19:53:30.3475 CET kernel.cc:1233] Loading model from path /tmp/tmp2qloftco/model/ with prefix 2b8c38efbdb84f26\n",
      "[INFO 24-01-26 19:53:30.3507 CET kernel.cc:1061] Use fast generic engine\n",
      "[WARNING 24-01-26 19:53:30.5309 CET gradient_boosted_trees.cc:1886] \"goss_alpha\" set but \"sampling_method\" not equal to \"GOSS\".\n",
      "[WARNING 24-01-26 19:53:30.5309 CET gradient_boosted_trees.cc:1897] \"goss_beta\" set but \"sampling_method\" not equal to \"GOSS\".\n",
      "[WARNING 24-01-26 19:53:30.5309 CET gradient_boosted_trees.cc:1911] \"selective_gradient_boosting_ratio\" set but \"sampling_method\" not equal to \"SELGB\".\n"
     ]
    },
    {
     "name": "stdout",
     "output_type": "stream",
     "text": [
      "i:56\n"
     ]
    },
    {
     "name": "stderr",
     "output_type": "stream",
     "text": [
      "[INFO 24-01-26 19:53:30.8349 CET kernel.cc:1233] Loading model from path /tmp/tmpltvq6usm/model/ with prefix 8da55b9055464785\n",
      "[INFO 24-01-26 19:53:30.8371 CET kernel.cc:1061] Use fast generic engine\n",
      "[WARNING 24-01-26 19:53:31.0012 CET gradient_boosted_trees.cc:1886] \"goss_alpha\" set but \"sampling_method\" not equal to \"GOSS\".\n",
      "[WARNING 24-01-26 19:53:31.0012 CET gradient_boosted_trees.cc:1897] \"goss_beta\" set but \"sampling_method\" not equal to \"GOSS\".\n",
      "[WARNING 24-01-26 19:53:31.0012 CET gradient_boosted_trees.cc:1911] \"selective_gradient_boosting_ratio\" set but \"sampling_method\" not equal to \"SELGB\".\n"
     ]
    },
    {
     "name": "stdout",
     "output_type": "stream",
     "text": [
      "i:57\n"
     ]
    },
    {
     "name": "stderr",
     "output_type": "stream",
     "text": [
      "[INFO 24-01-26 19:53:31.2122 CET kernel.cc:1233] Loading model from path /tmp/tmp5nhn5kzk/model/ with prefix 318c7af259c14633\n",
      "[INFO 24-01-26 19:53:31.2130 CET kernel.cc:1061] Use fast generic engine\n",
      "[WARNING 24-01-26 19:53:31.3814 CET gradient_boosted_trees.cc:1886] \"goss_alpha\" set but \"sampling_method\" not equal to \"GOSS\".\n",
      "[WARNING 24-01-26 19:53:31.3815 CET gradient_boosted_trees.cc:1897] \"goss_beta\" set but \"sampling_method\" not equal to \"GOSS\".\n",
      "[WARNING 24-01-26 19:53:31.3815 CET gradient_boosted_trees.cc:1911] \"selective_gradient_boosting_ratio\" set but \"sampling_method\" not equal to \"SELGB\".\n"
     ]
    },
    {
     "name": "stdout",
     "output_type": "stream",
     "text": [
      "i:58\n"
     ]
    },
    {
     "name": "stderr",
     "output_type": "stream",
     "text": [
      "[INFO 24-01-26 19:53:31.6238 CET kernel.cc:1233] Loading model from path /tmp/tmpyoqej0wx/model/ with prefix ad3d89cd8c064c8b\n",
      "[INFO 24-01-26 19:53:31.6251 CET kernel.cc:1061] Use fast generic engine\n",
      "[WARNING 24-01-26 19:53:31.7860 CET gradient_boosted_trees.cc:1886] \"goss_alpha\" set but \"sampling_method\" not equal to \"GOSS\".\n",
      "[WARNING 24-01-26 19:53:31.7860 CET gradient_boosted_trees.cc:1897] \"goss_beta\" set but \"sampling_method\" not equal to \"GOSS\".\n",
      "[WARNING 24-01-26 19:53:31.7860 CET gradient_boosted_trees.cc:1911] \"selective_gradient_boosting_ratio\" set but \"sampling_method\" not equal to \"SELGB\".\n"
     ]
    },
    {
     "name": "stdout",
     "output_type": "stream",
     "text": [
      "i:59\n"
     ]
    },
    {
     "name": "stderr",
     "output_type": "stream",
     "text": [
      "[INFO 24-01-26 19:53:32.0587 CET kernel.cc:1233] Loading model from path /tmp/tmp4_w81ahp/model/ with prefix f851c3fd28794a3c\n",
      "[INFO 24-01-26 19:53:32.0607 CET kernel.cc:1061] Use fast generic engine\n",
      "[WARNING 24-01-26 19:53:32.2169 CET gradient_boosted_trees.cc:1886] \"goss_alpha\" set but \"sampling_method\" not equal to \"GOSS\".\n",
      "[WARNING 24-01-26 19:53:32.2169 CET gradient_boosted_trees.cc:1897] \"goss_beta\" set but \"sampling_method\" not equal to \"GOSS\".\n",
      "[WARNING 24-01-26 19:53:32.2169 CET gradient_boosted_trees.cc:1911] \"selective_gradient_boosting_ratio\" set but \"sampling_method\" not equal to \"SELGB\".\n"
     ]
    },
    {
     "name": "stdout",
     "output_type": "stream",
     "text": [
      "i:60\n"
     ]
    },
    {
     "name": "stderr",
     "output_type": "stream",
     "text": [
      "[INFO 24-01-26 19:53:32.5091 CET kernel.cc:1233] Loading model from path /tmp/tmphf1skoop/model/ with prefix aadd2f9bca8d4fc1\n",
      "[INFO 24-01-26 19:53:32.5112 CET kernel.cc:1061] Use fast generic engine\n",
      "[WARNING 24-01-26 19:53:32.6691 CET gradient_boosted_trees.cc:1886] \"goss_alpha\" set but \"sampling_method\" not equal to \"GOSS\".\n",
      "[WARNING 24-01-26 19:53:32.6691 CET gradient_boosted_trees.cc:1897] \"goss_beta\" set but \"sampling_method\" not equal to \"GOSS\".\n",
      "[WARNING 24-01-26 19:53:32.6691 CET gradient_boosted_trees.cc:1911] \"selective_gradient_boosting_ratio\" set but \"sampling_method\" not equal to \"SELGB\".\n"
     ]
    },
    {
     "name": "stdout",
     "output_type": "stream",
     "text": [
      "i:61\n"
     ]
    },
    {
     "name": "stderr",
     "output_type": "stream",
     "text": [
      "[INFO 24-01-26 19:53:32.8929 CET kernel.cc:1233] Loading model from path /tmp/tmpg6mj2tft/model/ with prefix 899b591a2f8547c3\n",
      "[INFO 24-01-26 19:53:32.8939 CET kernel.cc:1061] Use fast generic engine\n",
      "[WARNING 24-01-26 19:53:33.0534 CET gradient_boosted_trees.cc:1886] \"goss_alpha\" set but \"sampling_method\" not equal to \"GOSS\".\n",
      "[WARNING 24-01-26 19:53:33.0534 CET gradient_boosted_trees.cc:1897] \"goss_beta\" set but \"sampling_method\" not equal to \"GOSS\".\n",
      "[WARNING 24-01-26 19:53:33.0534 CET gradient_boosted_trees.cc:1911] \"selective_gradient_boosting_ratio\" set but \"sampling_method\" not equal to \"SELGB\".\n"
     ]
    },
    {
     "name": "stdout",
     "output_type": "stream",
     "text": [
      "i:62\n"
     ]
    },
    {
     "name": "stderr",
     "output_type": "stream",
     "text": [
      "[INFO 24-01-26 19:53:33.3696 CET kernel.cc:1233] Loading model from path /tmp/tmpsbgtcy6u/model/ with prefix ddb8db55751c408b\n",
      "[INFO 24-01-26 19:53:33.3720 CET kernel.cc:1061] Use fast generic engine\n",
      "[WARNING 24-01-26 19:53:33.5365 CET gradient_boosted_trees.cc:1886] \"goss_alpha\" set but \"sampling_method\" not equal to \"GOSS\".\n",
      "[WARNING 24-01-26 19:53:33.5365 CET gradient_boosted_trees.cc:1897] \"goss_beta\" set but \"sampling_method\" not equal to \"GOSS\".\n",
      "[WARNING 24-01-26 19:53:33.5365 CET gradient_boosted_trees.cc:1911] \"selective_gradient_boosting_ratio\" set but \"sampling_method\" not equal to \"SELGB\".\n"
     ]
    },
    {
     "name": "stdout",
     "output_type": "stream",
     "text": [
      "i:63\n"
     ]
    },
    {
     "name": "stderr",
     "output_type": "stream",
     "text": [
      "[INFO 24-01-26 19:53:33.8164 CET kernel.cc:1233] Loading model from path /tmp/tmp_8w1wewg/model/ with prefix 54ade421fa944b53\n",
      "[INFO 24-01-26 19:53:33.8184 CET kernel.cc:1061] Use fast generic engine\n",
      "[WARNING 24-01-26 19:53:33.9770 CET gradient_boosted_trees.cc:1886] \"goss_alpha\" set but \"sampling_method\" not equal to \"GOSS\".\n",
      "[WARNING 24-01-26 19:53:33.9770 CET gradient_boosted_trees.cc:1897] \"goss_beta\" set but \"sampling_method\" not equal to \"GOSS\".\n",
      "[WARNING 24-01-26 19:53:33.9770 CET gradient_boosted_trees.cc:1911] \"selective_gradient_boosting_ratio\" set but \"sampling_method\" not equal to \"SELGB\".\n"
     ]
    },
    {
     "name": "stdout",
     "output_type": "stream",
     "text": [
      "i:64\n"
     ]
    },
    {
     "name": "stderr",
     "output_type": "stream",
     "text": [
      "[INFO 24-01-26 19:53:34.2359 CET kernel.cc:1233] Loading model from path /tmp/tmphcj43gxr/model/ with prefix ddce4578d93c4083\n",
      "[INFO 24-01-26 19:53:34.2375 CET kernel.cc:1061] Use fast generic engine\n",
      "[WARNING 24-01-26 19:53:34.4104 CET gradient_boosted_trees.cc:1886] \"goss_alpha\" set but \"sampling_method\" not equal to \"GOSS\".\n",
      "[WARNING 24-01-26 19:53:34.4104 CET gradient_boosted_trees.cc:1897] \"goss_beta\" set but \"sampling_method\" not equal to \"GOSS\".\n",
      "[WARNING 24-01-26 19:53:34.4104 CET gradient_boosted_trees.cc:1911] \"selective_gradient_boosting_ratio\" set but \"sampling_method\" not equal to \"SELGB\".\n"
     ]
    },
    {
     "name": "stdout",
     "output_type": "stream",
     "text": [
      "i:65\n"
     ]
    },
    {
     "name": "stderr",
     "output_type": "stream",
     "text": [
      "[INFO 24-01-26 19:53:34.6488 CET kernel.cc:1233] Loading model from path /tmp/tmpt3vvcs0f/model/ with prefix 5ea579f452f54360\n",
      "[INFO 24-01-26 19:53:34.6499 CET kernel.cc:1061] Use fast generic engine\n",
      "[WARNING 24-01-26 19:53:34.8244 CET gradient_boosted_trees.cc:1886] \"goss_alpha\" set but \"sampling_method\" not equal to \"GOSS\".\n",
      "[WARNING 24-01-26 19:53:34.8244 CET gradient_boosted_trees.cc:1897] \"goss_beta\" set but \"sampling_method\" not equal to \"GOSS\".\n",
      "[WARNING 24-01-26 19:53:34.8244 CET gradient_boosted_trees.cc:1911] \"selective_gradient_boosting_ratio\" set but \"sampling_method\" not equal to \"SELGB\".\n"
     ]
    },
    {
     "name": "stdout",
     "output_type": "stream",
     "text": [
      "i:66\n"
     ]
    },
    {
     "name": "stderr",
     "output_type": "stream",
     "text": [
      "[INFO 24-01-26 19:53:35.0636 CET kernel.cc:1233] Loading model from path /tmp/tmp2ola4xd1/model/ with prefix 17b0bc0827da48dd\n",
      "[INFO 24-01-26 19:53:35.0649 CET abstract_model.cc:1344] Engine \"GradientBoostedTreesQuickScorerExtended\" built\n",
      "[INFO 24-01-26 19:53:35.0649 CET kernel.cc:1061] Use fast generic engine\n",
      "[WARNING 24-01-26 19:53:35.2288 CET gradient_boosted_trees.cc:1886] \"goss_alpha\" set but \"sampling_method\" not equal to \"GOSS\".\n",
      "[WARNING 24-01-26 19:53:35.2288 CET gradient_boosted_trees.cc:1897] \"goss_beta\" set but \"sampling_method\" not equal to \"GOSS\".\n",
      "[WARNING 24-01-26 19:53:35.2288 CET gradient_boosted_trees.cc:1911] \"selective_gradient_boosting_ratio\" set but \"sampling_method\" not equal to \"SELGB\".\n"
     ]
    },
    {
     "name": "stdout",
     "output_type": "stream",
     "text": [
      "i:67\n"
     ]
    },
    {
     "name": "stderr",
     "output_type": "stream",
     "text": [
      "[INFO 24-01-26 19:53:35.6258 CET kernel.cc:1233] Loading model from path /tmp/tmp2nw_upy1/model/ with prefix 52d54bba225d436d\n",
      "[INFO 24-01-26 19:53:35.6300 CET kernel.cc:1061] Use fast generic engine\n",
      "[WARNING 24-01-26 19:53:35.7994 CET gradient_boosted_trees.cc:1886] \"goss_alpha\" set but \"sampling_method\" not equal to \"GOSS\".\n",
      "[WARNING 24-01-26 19:53:35.7994 CET gradient_boosted_trees.cc:1897] \"goss_beta\" set but \"sampling_method\" not equal to \"GOSS\".\n",
      "[WARNING 24-01-26 19:53:35.7994 CET gradient_boosted_trees.cc:1911] \"selective_gradient_boosting_ratio\" set but \"sampling_method\" not equal to \"SELGB\".\n"
     ]
    },
    {
     "name": "stdout",
     "output_type": "stream",
     "text": [
      "i:68\n"
     ]
    },
    {
     "name": "stderr",
     "output_type": "stream",
     "text": [
      "[INFO 24-01-26 19:53:36.1230 CET kernel.cc:1233] Loading model from path /tmp/tmpmaoo3gmk/model/ with prefix e5f543e6a4da4ebf\n",
      "[INFO 24-01-26 19:53:36.1253 CET kernel.cc:1061] Use fast generic engine\n",
      "[WARNING 24-01-26 19:53:36.2923 CET gradient_boosted_trees.cc:1886] \"goss_alpha\" set but \"sampling_method\" not equal to \"GOSS\".\n",
      "[WARNING 24-01-26 19:53:36.2923 CET gradient_boosted_trees.cc:1897] \"goss_beta\" set but \"sampling_method\" not equal to \"GOSS\".\n",
      "[WARNING 24-01-26 19:53:36.2923 CET gradient_boosted_trees.cc:1911] \"selective_gradient_boosting_ratio\" set but \"sampling_method\" not equal to \"SELGB\".\n"
     ]
    },
    {
     "name": "stdout",
     "output_type": "stream",
     "text": [
      "i:69\n"
     ]
    },
    {
     "name": "stderr",
     "output_type": "stream",
     "text": [
      "[INFO 24-01-26 19:53:36.5367 CET kernel.cc:1233] Loading model from path /tmp/tmpbvaj1vsf/model/ with prefix a359f6a756464b8b\n",
      "[INFO 24-01-26 19:53:36.5380 CET kernel.cc:1061] Use fast generic engine\n",
      "[WARNING 24-01-26 19:53:36.7024 CET gradient_boosted_trees.cc:1886] \"goss_alpha\" set but \"sampling_method\" not equal to \"GOSS\".\n",
      "[WARNING 24-01-26 19:53:36.7024 CET gradient_boosted_trees.cc:1897] \"goss_beta\" set but \"sampling_method\" not equal to \"GOSS\".\n",
      "[WARNING 24-01-26 19:53:36.7024 CET gradient_boosted_trees.cc:1911] \"selective_gradient_boosting_ratio\" set but \"sampling_method\" not equal to \"SELGB\".\n"
     ]
    },
    {
     "name": "stdout",
     "output_type": "stream",
     "text": [
      "i:70\n"
     ]
    },
    {
     "name": "stderr",
     "output_type": "stream",
     "text": [
      "[INFO 24-01-26 19:53:36.9713 CET kernel.cc:1233] Loading model from path /tmp/tmp89xfbm2x/model/ with prefix 4548aefe515b4e78\n",
      "[INFO 24-01-26 19:53:36.9732 CET kernel.cc:1061] Use fast generic engine\n",
      "[WARNING 24-01-26 19:53:37.1294 CET gradient_boosted_trees.cc:1886] \"goss_alpha\" set but \"sampling_method\" not equal to \"GOSS\".\n",
      "[WARNING 24-01-26 19:53:37.1294 CET gradient_boosted_trees.cc:1897] \"goss_beta\" set but \"sampling_method\" not equal to \"GOSS\".\n",
      "[WARNING 24-01-26 19:53:37.1294 CET gradient_boosted_trees.cc:1911] \"selective_gradient_boosting_ratio\" set but \"sampling_method\" not equal to \"SELGB\".\n"
     ]
    },
    {
     "name": "stdout",
     "output_type": "stream",
     "text": [
      "i:71\n"
     ]
    },
    {
     "name": "stderr",
     "output_type": "stream",
     "text": [
      "[INFO 24-01-26 19:53:37.3933 CET kernel.cc:1233] Loading model from path /tmp/tmpcyrrd_mq/model/ with prefix df0ed9d65bfd4319\n",
      "[INFO 24-01-26 19:53:37.3947 CET kernel.cc:1061] Use fast generic engine\n",
      "[WARNING 24-01-26 19:53:37.5594 CET gradient_boosted_trees.cc:1886] \"goss_alpha\" set but \"sampling_method\" not equal to \"GOSS\".\n",
      "[WARNING 24-01-26 19:53:37.5594 CET gradient_boosted_trees.cc:1897] \"goss_beta\" set but \"sampling_method\" not equal to \"GOSS\".\n",
      "[WARNING 24-01-26 19:53:37.5594 CET gradient_boosted_trees.cc:1911] \"selective_gradient_boosting_ratio\" set but \"sampling_method\" not equal to \"SELGB\".\n"
     ]
    },
    {
     "name": "stdout",
     "output_type": "stream",
     "text": [
      "i:72\n"
     ]
    },
    {
     "name": "stderr",
     "output_type": "stream",
     "text": [
      "[INFO 24-01-26 19:53:37.9299 CET kernel.cc:1233] Loading model from path /tmp/tmpifmtdthe/model/ with prefix dd7011c0bcf747db\n",
      "[INFO 24-01-26 19:53:37.9332 CET kernel.cc:1061] Use fast generic engine\n",
      "[WARNING 24-01-26 19:53:38.0904 CET gradient_boosted_trees.cc:1886] \"goss_alpha\" set but \"sampling_method\" not equal to \"GOSS\".\n",
      "[WARNING 24-01-26 19:53:38.0904 CET gradient_boosted_trees.cc:1897] \"goss_beta\" set but \"sampling_method\" not equal to \"GOSS\".\n",
      "[WARNING 24-01-26 19:53:38.0904 CET gradient_boosted_trees.cc:1911] \"selective_gradient_boosting_ratio\" set but \"sampling_method\" not equal to \"SELGB\".\n"
     ]
    },
    {
     "name": "stdout",
     "output_type": "stream",
     "text": [
      "i:73\n"
     ]
    },
    {
     "name": "stderr",
     "output_type": "stream",
     "text": [
      "[INFO 24-01-26 19:53:38.3415 CET kernel.cc:1233] Loading model from path /tmp/tmpioupqo5b/model/ with prefix 01196c74f60d455b\n",
      "[INFO 24-01-26 19:53:38.3429 CET kernel.cc:1061] Use fast generic engine\n",
      "[WARNING 24-01-26 19:53:38.5055 CET gradient_boosted_trees.cc:1886] \"goss_alpha\" set but \"sampling_method\" not equal to \"GOSS\".\n",
      "[WARNING 24-01-26 19:53:38.5056 CET gradient_boosted_trees.cc:1897] \"goss_beta\" set but \"sampling_method\" not equal to \"GOSS\".\n",
      "[WARNING 24-01-26 19:53:38.5056 CET gradient_boosted_trees.cc:1911] \"selective_gradient_boosting_ratio\" set but \"sampling_method\" not equal to \"SELGB\".\n"
     ]
    },
    {
     "name": "stdout",
     "output_type": "stream",
     "text": [
      "i:74\n"
     ]
    },
    {
     "name": "stderr",
     "output_type": "stream",
     "text": [
      "[INFO 24-01-26 19:53:38.8104 CET kernel.cc:1233] Loading model from path /tmp/tmpov7t_ev8/model/ with prefix 1fa0e3f41d6a43df\n",
      "[INFO 24-01-26 19:53:38.8128 CET kernel.cc:1061] Use fast generic engine\n",
      "[WARNING 24-01-26 19:53:38.9800 CET gradient_boosted_trees.cc:1886] \"goss_alpha\" set but \"sampling_method\" not equal to \"GOSS\".\n",
      "[WARNING 24-01-26 19:53:38.9800 CET gradient_boosted_trees.cc:1897] \"goss_beta\" set but \"sampling_method\" not equal to \"GOSS\".\n",
      "[WARNING 24-01-26 19:53:38.9800 CET gradient_boosted_trees.cc:1911] \"selective_gradient_boosting_ratio\" set but \"sampling_method\" not equal to \"SELGB\".\n"
     ]
    },
    {
     "name": "stdout",
     "output_type": "stream",
     "text": [
      "i:75\n"
     ]
    },
    {
     "name": "stderr",
     "output_type": "stream",
     "text": [
      "[INFO 24-01-26 19:53:39.2407 CET kernel.cc:1233] Loading model from path /tmp/tmp4pe_bwhv/model/ with prefix e9dd6b36dc504627\n",
      "[INFO 24-01-26 19:53:39.2423 CET kernel.cc:1061] Use fast generic engine\n",
      "[WARNING 24-01-26 19:53:39.4048 CET gradient_boosted_trees.cc:1886] \"goss_alpha\" set but \"sampling_method\" not equal to \"GOSS\".\n",
      "[WARNING 24-01-26 19:53:39.4049 CET gradient_boosted_trees.cc:1897] \"goss_beta\" set but \"sampling_method\" not equal to \"GOSS\".\n",
      "[WARNING 24-01-26 19:53:39.4049 CET gradient_boosted_trees.cc:1911] \"selective_gradient_boosting_ratio\" set but \"sampling_method\" not equal to \"SELGB\".\n"
     ]
    },
    {
     "name": "stdout",
     "output_type": "stream",
     "text": [
      "i:76\n"
     ]
    },
    {
     "name": "stderr",
     "output_type": "stream",
     "text": [
      "[INFO 24-01-26 19:53:39.6212 CET kernel.cc:1233] Loading model from path /tmp/tmp_inulw2h/model/ with prefix 9d0204a2e5e04cf1\n",
      "[INFO 24-01-26 19:53:39.6220 CET kernel.cc:1061] Use fast generic engine\n",
      "[WARNING 24-01-26 19:53:39.7869 CET gradient_boosted_trees.cc:1886] \"goss_alpha\" set but \"sampling_method\" not equal to \"GOSS\".\n",
      "[WARNING 24-01-26 19:53:39.7870 CET gradient_boosted_trees.cc:1897] \"goss_beta\" set but \"sampling_method\" not equal to \"GOSS\".\n",
      "[WARNING 24-01-26 19:53:39.7870 CET gradient_boosted_trees.cc:1911] \"selective_gradient_boosting_ratio\" set but \"sampling_method\" not equal to \"SELGB\".\n"
     ]
    },
    {
     "name": "stdout",
     "output_type": "stream",
     "text": [
      "i:77\n"
     ]
    },
    {
     "name": "stderr",
     "output_type": "stream",
     "text": [
      "[INFO 24-01-26 19:53:40.0048 CET kernel.cc:1233] Loading model from path /tmp/tmpa4zelptz/model/ with prefix cb0639346bc64e1e\n",
      "[INFO 24-01-26 19:53:40.0057 CET kernel.cc:1061] Use fast generic engine\n",
      "[WARNING 24-01-26 19:53:40.1736 CET gradient_boosted_trees.cc:1886] \"goss_alpha\" set but \"sampling_method\" not equal to \"GOSS\".\n",
      "[WARNING 24-01-26 19:53:40.1736 CET gradient_boosted_trees.cc:1897] \"goss_beta\" set but \"sampling_method\" not equal to \"GOSS\".\n",
      "[WARNING 24-01-26 19:53:40.1736 CET gradient_boosted_trees.cc:1911] \"selective_gradient_boosting_ratio\" set but \"sampling_method\" not equal to \"SELGB\".\n"
     ]
    },
    {
     "name": "stdout",
     "output_type": "stream",
     "text": [
      "i:78\n"
     ]
    },
    {
     "name": "stderr",
     "output_type": "stream",
     "text": [
      "[INFO 24-01-26 19:53:40.4157 CET kernel.cc:1233] Loading model from path /tmp/tmp6t4p7jri/model/ with prefix 664647da413a4801\n",
      "[INFO 24-01-26 19:53:40.4170 CET kernel.cc:1061] Use fast generic engine\n",
      "[WARNING 24-01-26 19:53:40.5848 CET gradient_boosted_trees.cc:1886] \"goss_alpha\" set but \"sampling_method\" not equal to \"GOSS\".\n",
      "[WARNING 24-01-26 19:53:40.5848 CET gradient_boosted_trees.cc:1897] \"goss_beta\" set but \"sampling_method\" not equal to \"GOSS\".\n",
      "[WARNING 24-01-26 19:53:40.5848 CET gradient_boosted_trees.cc:1911] \"selective_gradient_boosting_ratio\" set but \"sampling_method\" not equal to \"SELGB\".\n"
     ]
    },
    {
     "name": "stdout",
     "output_type": "stream",
     "text": [
      "i:79\n"
     ]
    },
    {
     "name": "stderr",
     "output_type": "stream",
     "text": [
      "[INFO 24-01-26 19:53:40.8336 CET kernel.cc:1233] Loading model from path /tmp/tmpj69bkx_u/model/ with prefix 93b6e6f48460404e\n",
      "[INFO 24-01-26 19:53:40.8351 CET kernel.cc:1061] Use fast generic engine\n",
      "[WARNING 24-01-26 19:53:41.0013 CET gradient_boosted_trees.cc:1886] \"goss_alpha\" set but \"sampling_method\" not equal to \"GOSS\".\n",
      "[WARNING 24-01-26 19:53:41.0013 CET gradient_boosted_trees.cc:1897] \"goss_beta\" set but \"sampling_method\" not equal to \"GOSS\".\n",
      "[WARNING 24-01-26 19:53:41.0013 CET gradient_boosted_trees.cc:1911] \"selective_gradient_boosting_ratio\" set but \"sampling_method\" not equal to \"SELGB\".\n"
     ]
    },
    {
     "name": "stdout",
     "output_type": "stream",
     "text": [
      "i:80\n"
     ]
    },
    {
     "name": "stderr",
     "output_type": "stream",
     "text": [
      "[INFO 24-01-26 19:53:41.2844 CET kernel.cc:1233] Loading model from path /tmp/tmpme2yztvp/model/ with prefix 45019935a4b24a00\n",
      "[INFO 24-01-26 19:53:41.2863 CET kernel.cc:1061] Use fast generic engine\n",
      "[WARNING 24-01-26 19:53:41.4417 CET gradient_boosted_trees.cc:1886] \"goss_alpha\" set but \"sampling_method\" not equal to \"GOSS\".\n",
      "[WARNING 24-01-26 19:53:41.4417 CET gradient_boosted_trees.cc:1897] \"goss_beta\" set but \"sampling_method\" not equal to \"GOSS\".\n",
      "[WARNING 24-01-26 19:53:41.4417 CET gradient_boosted_trees.cc:1911] \"selective_gradient_boosting_ratio\" set but \"sampling_method\" not equal to \"SELGB\".\n"
     ]
    },
    {
     "name": "stdout",
     "output_type": "stream",
     "text": [
      "i:81\n"
     ]
    },
    {
     "name": "stderr",
     "output_type": "stream",
     "text": [
      "[INFO 24-01-26 19:53:41.7403 CET kernel.cc:1233] Loading model from path /tmp/tmpu688jvmo/model/ with prefix 1e17a6ad9bcd4ceb\n",
      "[INFO 24-01-26 19:53:41.7425 CET kernel.cc:1061] Use fast generic engine\n",
      "[WARNING 24-01-26 19:53:41.9087 CET gradient_boosted_trees.cc:1886] \"goss_alpha\" set but \"sampling_method\" not equal to \"GOSS\".\n",
      "[WARNING 24-01-26 19:53:41.9087 CET gradient_boosted_trees.cc:1897] \"goss_beta\" set but \"sampling_method\" not equal to \"GOSS\".\n",
      "[WARNING 24-01-26 19:53:41.9087 CET gradient_boosted_trees.cc:1911] \"selective_gradient_boosting_ratio\" set but \"sampling_method\" not equal to \"SELGB\".\n"
     ]
    },
    {
     "name": "stdout",
     "output_type": "stream",
     "text": [
      "i:82\n"
     ]
    },
    {
     "name": "stderr",
     "output_type": "stream",
     "text": [
      "[INFO 24-01-26 19:53:42.2046 CET kernel.cc:1233] Loading model from path /tmp/tmpsz_b8r0q/model/ with prefix 7f9a17ec19744bca\n",
      "[INFO 24-01-26 19:53:42.2066 CET kernel.cc:1061] Use fast generic engine\n",
      "[WARNING 24-01-26 19:53:42.3587 CET gradient_boosted_trees.cc:1886] \"goss_alpha\" set but \"sampling_method\" not equal to \"GOSS\".\n",
      "[WARNING 24-01-26 19:53:42.3587 CET gradient_boosted_trees.cc:1897] \"goss_beta\" set but \"sampling_method\" not equal to \"GOSS\".\n",
      "[WARNING 24-01-26 19:53:42.3587 CET gradient_boosted_trees.cc:1911] \"selective_gradient_boosting_ratio\" set but \"sampling_method\" not equal to \"SELGB\".\n"
     ]
    },
    {
     "name": "stdout",
     "output_type": "stream",
     "text": [
      "i:83\n"
     ]
    },
    {
     "name": "stderr",
     "output_type": "stream",
     "text": [
      "[INFO 24-01-26 19:53:42.6245 CET kernel.cc:1233] Loading model from path /tmp/tmputzfgiim/model/ with prefix da6fb4b5529144d4\n",
      "[INFO 24-01-26 19:53:42.6261 CET kernel.cc:1061] Use fast generic engine\n",
      "[WARNING 24-01-26 19:53:42.7813 CET gradient_boosted_trees.cc:1886] \"goss_alpha\" set but \"sampling_method\" not equal to \"GOSS\".\n",
      "[WARNING 24-01-26 19:53:42.7813 CET gradient_boosted_trees.cc:1897] \"goss_beta\" set but \"sampling_method\" not equal to \"GOSS\".\n",
      "[WARNING 24-01-26 19:53:42.7813 CET gradient_boosted_trees.cc:1911] \"selective_gradient_boosting_ratio\" set but \"sampling_method\" not equal to \"SELGB\".\n"
     ]
    },
    {
     "name": "stdout",
     "output_type": "stream",
     "text": [
      "i:84\n"
     ]
    },
    {
     "name": "stderr",
     "output_type": "stream",
     "text": [
      "[INFO 24-01-26 19:53:43.1272 CET kernel.cc:1233] Loading model from path /tmp/tmp3awkeuu_/model/ with prefix 72282f478c98482a\n",
      "[INFO 24-01-26 19:53:43.1305 CET kernel.cc:1061] Use fast generic engine\n",
      "[WARNING 24-01-26 19:53:43.2880 CET gradient_boosted_trees.cc:1886] \"goss_alpha\" set but \"sampling_method\" not equal to \"GOSS\".\n",
      "[WARNING 24-01-26 19:53:43.2880 CET gradient_boosted_trees.cc:1897] \"goss_beta\" set but \"sampling_method\" not equal to \"GOSS\".\n",
      "[WARNING 24-01-26 19:53:43.2880 CET gradient_boosted_trees.cc:1911] \"selective_gradient_boosting_ratio\" set but \"sampling_method\" not equal to \"SELGB\".\n"
     ]
    },
    {
     "name": "stdout",
     "output_type": "stream",
     "text": [
      "i:85\n"
     ]
    },
    {
     "name": "stderr",
     "output_type": "stream",
     "text": [
      "[INFO 24-01-26 19:53:43.5285 CET kernel.cc:1233] Loading model from path /tmp/tmpyqwo1gjw/model/ with prefix 88c1d3c8553e45cf\n",
      "[INFO 24-01-26 19:53:43.5298 CET kernel.cc:1061] Use fast generic engine\n",
      "[WARNING 24-01-26 19:53:43.6830 CET gradient_boosted_trees.cc:1886] \"goss_alpha\" set but \"sampling_method\" not equal to \"GOSS\".\n",
      "[WARNING 24-01-26 19:53:43.6830 CET gradient_boosted_trees.cc:1897] \"goss_beta\" set but \"sampling_method\" not equal to \"GOSS\".\n",
      "[WARNING 24-01-26 19:53:43.6830 CET gradient_boosted_trees.cc:1911] \"selective_gradient_boosting_ratio\" set but \"sampling_method\" not equal to \"SELGB\".\n"
     ]
    },
    {
     "name": "stdout",
     "output_type": "stream",
     "text": [
      "i:86\n"
     ]
    },
    {
     "name": "stderr",
     "output_type": "stream",
     "text": [
      "[INFO 24-01-26 19:53:44.0286 CET kernel.cc:1233] Loading model from path /tmp/tmpn_ri6h89/model/ with prefix 074f70eec55d480d\n",
      "[INFO 24-01-26 19:53:44.0316 CET kernel.cc:1061] Use fast generic engine\n",
      "[WARNING 24-01-26 19:53:44.1868 CET gradient_boosted_trees.cc:1886] \"goss_alpha\" set but \"sampling_method\" not equal to \"GOSS\".\n",
      "[WARNING 24-01-26 19:53:44.1868 CET gradient_boosted_trees.cc:1897] \"goss_beta\" set but \"sampling_method\" not equal to \"GOSS\".\n",
      "[WARNING 24-01-26 19:53:44.1868 CET gradient_boosted_trees.cc:1911] \"selective_gradient_boosting_ratio\" set but \"sampling_method\" not equal to \"SELGB\".\n"
     ]
    },
    {
     "name": "stdout",
     "output_type": "stream",
     "text": [
      "i:87\n"
     ]
    },
    {
     "name": "stderr",
     "output_type": "stream",
     "text": [
      "[INFO 24-01-26 19:53:44.5569 CET kernel.cc:1233] Loading model from path /tmp/tmpb3iamsqd/model/ with prefix 3f02684c78914218\n",
      "[INFO 24-01-26 19:53:44.5607 CET kernel.cc:1061] Use fast generic engine\n",
      "[WARNING 24-01-26 19:53:44.7190 CET gradient_boosted_trees.cc:1886] \"goss_alpha\" set but \"sampling_method\" not equal to \"GOSS\".\n",
      "[WARNING 24-01-26 19:53:44.7190 CET gradient_boosted_trees.cc:1897] \"goss_beta\" set but \"sampling_method\" not equal to \"GOSS\".\n",
      "[WARNING 24-01-26 19:53:44.7190 CET gradient_boosted_trees.cc:1911] \"selective_gradient_boosting_ratio\" set but \"sampling_method\" not equal to \"SELGB\".\n"
     ]
    },
    {
     "name": "stdout",
     "output_type": "stream",
     "text": [
      "i:88\n"
     ]
    },
    {
     "name": "stderr",
     "output_type": "stream",
     "text": [
      "[INFO 24-01-26 19:53:45.0252 CET kernel.cc:1233] Loading model from path /tmp/tmpm0kchgaj/model/ with prefix ad48f5f8a4b044fa\n",
      "[INFO 24-01-26 19:53:45.0274 CET kernel.cc:1061] Use fast generic engine\n",
      "[WARNING 24-01-26 19:53:45.1828 CET gradient_boosted_trees.cc:1886] \"goss_alpha\" set but \"sampling_method\" not equal to \"GOSS\".\n",
      "[WARNING 24-01-26 19:53:45.1829 CET gradient_boosted_trees.cc:1897] \"goss_beta\" set but \"sampling_method\" not equal to \"GOSS\".\n",
      "[WARNING 24-01-26 19:53:45.1829 CET gradient_boosted_trees.cc:1911] \"selective_gradient_boosting_ratio\" set but \"sampling_method\" not equal to \"SELGB\".\n"
     ]
    },
    {
     "name": "stdout",
     "output_type": "stream",
     "text": [
      "i:89\n"
     ]
    },
    {
     "name": "stderr",
     "output_type": "stream",
     "text": [
      "[INFO 24-01-26 19:53:45.4133 CET kernel.cc:1233] Loading model from path /tmp/tmp3mq0gdxy/model/ with prefix 50a88dcbc0254e77\n",
      "[INFO 24-01-26 19:53:45.4144 CET abstract_model.cc:1344] Engine \"GradientBoostedTreesQuickScorerExtended\" built\n",
      "[INFO 24-01-26 19:53:45.4144 CET kernel.cc:1061] Use fast generic engine\n",
      "[WARNING 24-01-26 19:53:45.5695 CET gradient_boosted_trees.cc:1886] \"goss_alpha\" set but \"sampling_method\" not equal to \"GOSS\".\n",
      "[WARNING 24-01-26 19:53:45.5695 CET gradient_boosted_trees.cc:1897] \"goss_beta\" set but \"sampling_method\" not equal to \"GOSS\".\n",
      "[WARNING 24-01-26 19:53:45.5695 CET gradient_boosted_trees.cc:1911] \"selective_gradient_boosting_ratio\" set but \"sampling_method\" not equal to \"SELGB\".\n"
     ]
    },
    {
     "name": "stdout",
     "output_type": "stream",
     "text": [
      "i:90\n"
     ]
    },
    {
     "name": "stderr",
     "output_type": "stream",
     "text": [
      "[INFO 24-01-26 19:53:45.8611 CET kernel.cc:1233] Loading model from path /tmp/tmpaum9oemi/model/ with prefix c21edf9a87754a0f\n",
      "[INFO 24-01-26 19:53:45.8632 CET kernel.cc:1061] Use fast generic engine\n",
      "[WARNING 24-01-26 19:53:46.0217 CET gradient_boosted_trees.cc:1886] \"goss_alpha\" set but \"sampling_method\" not equal to \"GOSS\".\n",
      "[WARNING 24-01-26 19:53:46.0217 CET gradient_boosted_trees.cc:1897] \"goss_beta\" set but \"sampling_method\" not equal to \"GOSS\".\n",
      "[WARNING 24-01-26 19:53:46.0217 CET gradient_boosted_trees.cc:1911] \"selective_gradient_boosting_ratio\" set but \"sampling_method\" not equal to \"SELGB\".\n"
     ]
    },
    {
     "name": "stdout",
     "output_type": "stream",
     "text": [
      "i:91\n"
     ]
    },
    {
     "name": "stderr",
     "output_type": "stream",
     "text": [
      "[INFO 24-01-26 19:53:46.7690 CET kernel.cc:1233] Loading model from path /tmp/tmpgfb64ff0/model/ with prefix 4f69c5cc783840c1\n",
      "[INFO 24-01-26 19:53:46.7714 CET kernel.cc:1061] Use fast generic engine\n",
      "[WARNING 24-01-26 19:53:46.9602 CET gradient_boosted_trees.cc:1886] \"goss_alpha\" set but \"sampling_method\" not equal to \"GOSS\".\n",
      "[WARNING 24-01-26 19:53:46.9602 CET gradient_boosted_trees.cc:1897] \"goss_beta\" set but \"sampling_method\" not equal to \"GOSS\".\n",
      "[WARNING 24-01-26 19:53:46.9602 CET gradient_boosted_trees.cc:1911] \"selective_gradient_boosting_ratio\" set but \"sampling_method\" not equal to \"SELGB\".\n"
     ]
    },
    {
     "name": "stdout",
     "output_type": "stream",
     "text": [
      "i:92\n"
     ]
    },
    {
     "name": "stderr",
     "output_type": "stream",
     "text": [
      "[INFO 24-01-26 19:53:47.3366 CET kernel.cc:1233] Loading model from path /tmp/tmpcj_mtaih/model/ with prefix b048a3f905a44455\n",
      "[INFO 24-01-26 19:53:47.3421 CET kernel.cc:1061] Use fast generic engine\n",
      "[WARNING 24-01-26 19:53:47.5275 CET gradient_boosted_trees.cc:1886] \"goss_alpha\" set but \"sampling_method\" not equal to \"GOSS\".\n",
      "[WARNING 24-01-26 19:53:47.5275 CET gradient_boosted_trees.cc:1897] \"goss_beta\" set but \"sampling_method\" not equal to \"GOSS\".\n",
      "[WARNING 24-01-26 19:53:47.5275 CET gradient_boosted_trees.cc:1911] \"selective_gradient_boosting_ratio\" set but \"sampling_method\" not equal to \"SELGB\".\n"
     ]
    },
    {
     "name": "stdout",
     "output_type": "stream",
     "text": [
      "i:93\n"
     ]
    },
    {
     "name": "stderr",
     "output_type": "stream",
     "text": [
      "[INFO 24-01-26 19:53:47.8263 CET kernel.cc:1233] Loading model from path /tmp/tmp5uqhsn06/model/ with prefix 92c3eda867a44597\n",
      "[INFO 24-01-26 19:53:47.8292 CET kernel.cc:1061] Use fast generic engine\n",
      "[WARNING 24-01-26 19:53:47.9934 CET gradient_boosted_trees.cc:1886] \"goss_alpha\" set but \"sampling_method\" not equal to \"GOSS\".\n",
      "[WARNING 24-01-26 19:53:47.9934 CET gradient_boosted_trees.cc:1897] \"goss_beta\" set but \"sampling_method\" not equal to \"GOSS\".\n",
      "[WARNING 24-01-26 19:53:47.9934 CET gradient_boosted_trees.cc:1911] \"selective_gradient_boosting_ratio\" set but \"sampling_method\" not equal to \"SELGB\".\n"
     ]
    },
    {
     "name": "stdout",
     "output_type": "stream",
     "text": [
      "i:94\n"
     ]
    },
    {
     "name": "stderr",
     "output_type": "stream",
     "text": [
      "[INFO 24-01-26 19:53:48.2408 CET kernel.cc:1233] Loading model from path /tmp/tmpk7vnkrvq/model/ with prefix 1893c31857474102\n",
      "[INFO 24-01-26 19:53:48.2425 CET kernel.cc:1061] Use fast generic engine\n",
      "[WARNING 24-01-26 19:53:48.4142 CET gradient_boosted_trees.cc:1886] \"goss_alpha\" set but \"sampling_method\" not equal to \"GOSS\".\n",
      "[WARNING 24-01-26 19:53:48.4142 CET gradient_boosted_trees.cc:1897] \"goss_beta\" set but \"sampling_method\" not equal to \"GOSS\".\n",
      "[WARNING 24-01-26 19:53:48.4142 CET gradient_boosted_trees.cc:1911] \"selective_gradient_boosting_ratio\" set but \"sampling_method\" not equal to \"SELGB\".\n"
     ]
    },
    {
     "name": "stdout",
     "output_type": "stream",
     "text": [
      "i:95\n"
     ]
    },
    {
     "name": "stderr",
     "output_type": "stream",
     "text": [
      "[INFO 24-01-26 19:53:48.6933 CET kernel.cc:1233] Loading model from path /tmp/tmp54c0xpkx/model/ with prefix b919279a674248bd\n",
      "[INFO 24-01-26 19:53:48.6959 CET kernel.cc:1061] Use fast generic engine\n",
      "[WARNING 24-01-26 19:53:48.8635 CET gradient_boosted_trees.cc:1886] \"goss_alpha\" set but \"sampling_method\" not equal to \"GOSS\".\n",
      "[WARNING 24-01-26 19:53:48.8635 CET gradient_boosted_trees.cc:1897] \"goss_beta\" set but \"sampling_method\" not equal to \"GOSS\".\n",
      "[WARNING 24-01-26 19:53:48.8635 CET gradient_boosted_trees.cc:1911] \"selective_gradient_boosting_ratio\" set but \"sampling_method\" not equal to \"SELGB\".\n"
     ]
    },
    {
     "name": "stdout",
     "output_type": "stream",
     "text": [
      "i:96\n"
     ]
    },
    {
     "name": "stderr",
     "output_type": "stream",
     "text": [
      "[INFO 24-01-26 19:53:49.1499 CET kernel.cc:1233] Loading model from path /tmp/tmpieipn4u8/model/ with prefix 5c6ad7012af24a36\n",
      "[INFO 24-01-26 19:53:49.1523 CET kernel.cc:1061] Use fast generic engine\n",
      "[WARNING 24-01-26 19:53:49.3107 CET gradient_boosted_trees.cc:1886] \"goss_alpha\" set but \"sampling_method\" not equal to \"GOSS\".\n",
      "[WARNING 24-01-26 19:53:49.3107 CET gradient_boosted_trees.cc:1897] \"goss_beta\" set but \"sampling_method\" not equal to \"GOSS\".\n",
      "[WARNING 24-01-26 19:53:49.3107 CET gradient_boosted_trees.cc:1911] \"selective_gradient_boosting_ratio\" set but \"sampling_method\" not equal to \"SELGB\".\n"
     ]
    },
    {
     "name": "stdout",
     "output_type": "stream",
     "text": [
      "i:97\n"
     ]
    },
    {
     "name": "stderr",
     "output_type": "stream",
     "text": [
      "[INFO 24-01-26 19:53:49.5414 CET kernel.cc:1233] Loading model from path /tmp/tmpiro40z31/model/ with prefix 52dc0fe8b6b5476d\n",
      "[INFO 24-01-26 19:53:49.5427 CET kernel.cc:1061] Use fast generic engine\n",
      "[WARNING 24-01-26 19:53:49.7046 CET gradient_boosted_trees.cc:1886] \"goss_alpha\" set but \"sampling_method\" not equal to \"GOSS\".\n",
      "[WARNING 24-01-26 19:53:49.7047 CET gradient_boosted_trees.cc:1897] \"goss_beta\" set but \"sampling_method\" not equal to \"GOSS\".\n",
      "[WARNING 24-01-26 19:53:49.7047 CET gradient_boosted_trees.cc:1911] \"selective_gradient_boosting_ratio\" set but \"sampling_method\" not equal to \"SELGB\".\n"
     ]
    },
    {
     "name": "stdout",
     "output_type": "stream",
     "text": [
      "i:98\n"
     ]
    },
    {
     "name": "stderr",
     "output_type": "stream",
     "text": [
      "[INFO 24-01-26 19:53:49.9651 CET kernel.cc:1233] Loading model from path /tmp/tmphz7nd0s5/model/ with prefix d2e3d78fd5194d32\n",
      "[INFO 24-01-26 19:53:49.9668 CET kernel.cc:1061] Use fast generic engine\n",
      "[WARNING 24-01-26 19:53:50.1344 CET gradient_boosted_trees.cc:1886] \"goss_alpha\" set but \"sampling_method\" not equal to \"GOSS\".\n",
      "[WARNING 24-01-26 19:53:50.1344 CET gradient_boosted_trees.cc:1897] \"goss_beta\" set but \"sampling_method\" not equal to \"GOSS\".\n",
      "[WARNING 24-01-26 19:53:50.1344 CET gradient_boosted_trees.cc:1911] \"selective_gradient_boosting_ratio\" set but \"sampling_method\" not equal to \"SELGB\".\n"
     ]
    },
    {
     "name": "stdout",
     "output_type": "stream",
     "text": [
      "i:99\n"
     ]
    },
    {
     "name": "stderr",
     "output_type": "stream",
     "text": [
      "[INFO 24-01-26 19:53:50.4814 CET kernel.cc:1233] Loading model from path /tmp/tmp07roq87n/model/ with prefix 4b0d30f765a64fc3\n",
      "[INFO 24-01-26 19:53:50.4846 CET kernel.cc:1061] Use fast generic engine\n"
     ]
    }
   ],
   "source": [
    "# 1. Importation des bibliothèques nécessaires\n",
    "import numpy as np\n",
    "import pandas as pd\n",
    "import matplotlib.pyplot as plt\n",
    "import seaborn as sns\n",
    "from sklearn.model_selection import train_test_split, GridSearchCV\n",
    "from sklearn.preprocessing import OneHotEncoder\n",
    "from sklearn.impute import SimpleImputer\n",
    "from sklearn.ensemble import RandomForestClassifier\n",
    "import os\n",
    "import tensorflow as tf\n",
    "import tensorflow_decision_forests as tfdf\n",
    "from sklearn.metrics import accuracy_score, roc_auc_score, f1_score\n",
    "\n",
    "# 2. Chargement des données\n",
    "train_df = pd.read_csv('/home/charlemagne/workspace/kaggle_challenge_titanic/data/train.csv')\n",
    "test_df = pd.read_csv('/home/charlemagne/workspace/kaggle_challenge_titanic/data/test.csv')\n",
    "submission_file_path = '/home/charlemagne/workspace/kaggle_challenge_titanic/submission/submission.csv'\n",
    "\n",
    "train_df.head(10)\n",
    "\n",
    "def preprocess(df):\n",
    "    df = df.copy()\n",
    "    \n",
    "    def normalize_name(x):\n",
    "        return \" \".join([v.strip(\",()[].\\\"'\") for v in x.split(\" \")])\n",
    "    \n",
    "    def ticket_number(x):\n",
    "        return x.split(\" \")[-1]\n",
    "        \n",
    "    def ticket_item(x):\n",
    "        items = x.split(\" \")\n",
    "        if len(items) == 1:\n",
    "            return \"NONE\"\n",
    "        return \"_\".join(items[0:-1])\n",
    "    \n",
    "    df[\"Name\"] = df[\"Name\"].apply(normalize_name)\n",
    "    df[\"Ticket_number\"] = df[\"Ticket\"].apply(ticket_number)\n",
    "    df[\"Ticket_item\"] = df[\"Ticket\"].apply(ticket_item)                     \n",
    "    return df\n",
    "    \n",
    "preprocessed_train_df = preprocess(train_df)\n",
    "preprocessed_test_df = preprocess(test_df)\n",
    "preprocessed_train_df.head(5)\n",
    "\n",
    "input_features = list(preprocessed_train_df.columns)\n",
    "input_features.remove(\"Ticket\")\n",
    "input_features.remove(\"PassengerId\")\n",
    "input_features.remove(\"Survived\")\n",
    "#input_features.remove(\"Ticket_number\")\n",
    "\n",
    "print(f\"Input features: {input_features}\")\n",
    "\n",
    "def tokenize_names(features, labels=None):\n",
    "    \"\"\"Divite the names into tokens. TF-DF can consume text tokens natively.\"\"\"\n",
    "    features[\"Name\"] =  tf.strings.split(features[\"Name\"])\n",
    "    return features, labels\n",
    "\n",
    "train_ds = tfdf.keras.pd_dataframe_to_tf_dataset(preprocessed_train_df,label=\"Survived\").map(tokenize_names)\n",
    "serving_ds = tfdf.keras.pd_dataframe_to_tf_dataset(preprocessed_test_df).map(tokenize_names)\n",
    "\n",
    "model = tfdf.keras.GradientBoostedTreesModel(\n",
    "    verbose=0, # Very few logs\n",
    "    features=[tfdf.keras.FeatureUsage(name=n) for n in input_features],\n",
    "    exclude_non_specified_features=True, # Only use the features in \"features\"\n",
    "    random_seed=1234,\n",
    ")\n",
    "model.fit(train_ds)\n",
    "\n",
    "self_evaluation = model.make_inspector().evaluation()\n",
    "print(f\"Accuracy: {self_evaluation.accuracy} Loss:{self_evaluation.loss}\")\n",
    "\n",
    "model = tfdf.keras.GradientBoostedTreesModel(\n",
    "    verbose=0,\n",
    "    features=[tfdf.keras.FeatureUsage(name=n) for n in input_features],\n",
    "    exclude_non_specified_features=True,\n",
    "    min_examples=1,\n",
    "    categorical_algorithm=\"RANDOM\",\n",
    "    shrinkage=0.05,\n",
    "    split_axis=\"SPARSE_OBLIQUE\",\n",
    "    sparse_oblique_normalization=\"MIN_MAX\",\n",
    "    sparse_oblique_num_projections_exponent=2.0,\n",
    "    num_trees=2000,\n",
    "    random_seed=1234,\n",
    "    \n",
    ")\n",
    "model.fit(train_ds)\n",
    "\n",
    "self_evaluation = model.make_inspector().evaluation()\n",
    "print(f\"Accuracy: {self_evaluation.accuracy} Loss:{self_evaluation.loss}\")\n",
    "\n",
    "model.summary()\n",
    "\n",
    "def prediction_to_kaggle_format(model, threshold=0.5):\n",
    "    proba_survive = model.predict(serving_ds, verbose=0)[:,0]\n",
    "    return pd.DataFrame({\n",
    "        \"PassengerId\": preprocessed_test_df[\"PassengerId\"],\n",
    "        \"Survived\": (proba_survive >= threshold).astype(int)\n",
    "    })\n",
    "\n",
    "def make_submission(kaggle_predictions):\n",
    "    kaggle_predictions.to_csv(submission_file_path, index=False)\n",
    "    print(f\"Submission exported to {submission_file_path}\")\n",
    "    \n",
    "kaggle_predictions = prediction_to_kaggle_format(model)\n",
    "make_submission(kaggle_predictions)\n",
    "\n",
    "tuner = tfdf.tuner.RandomSearch(num_trials=1000)\n",
    "tuner.choice(\"min_examples\", [2, 5, 7, 10])\n",
    "tuner.choice(\"categorical_algorithm\", [\"CART\", \"RANDOM\"])\n",
    "\n",
    "local_search_space = tuner.choice(\"growing_strategy\", [\"LOCAL\"])\n",
    "local_search_space.choice(\"max_depth\", [3, 4, 5, 6, 8])\n",
    "\n",
    "global_search_space = tuner.choice(\"growing_strategy\", [\"BEST_FIRST_GLOBAL\"], merge=True)\n",
    "global_search_space.choice(\"max_num_nodes\", [16, 32, 64, 128, 256])\n",
    "\n",
    "tuner.choice(\"shrinkage\", [0.02, 0.05, 0.10, 0.15])\n",
    "tuner.choice(\"num_candidate_attributes_ratio\", [0.2, 0.5, 0.9, 1.0])\n",
    "\n",
    "tuner.choice(\"split_axis\", [\"AXIS_ALIGNED\"])\n",
    "oblique_space = tuner.choice(\"split_axis\", [\"SPARSE_OBLIQUE\"], merge=True)\n",
    "oblique_space.choice(\"sparse_oblique_normalization\",\n",
    "                     [\"NONE\", \"STANDARD_DEVIATION\", \"MIN_MAX\"])\n",
    "oblique_space.choice(\"sparse_oblique_weights\", [\"BINARY\", \"CONTINUOUS\"])\n",
    "oblique_space.choice(\"sparse_oblique_num_projections_exponent\", [1.0, 1.5])\n",
    "\n",
    "tuned_model = tfdf.keras.GradientBoostedTreesModel(tuner=tuner)\n",
    "tuned_model.fit(train_ds, verbose=0)\n",
    "\n",
    "tuned_self_evaluation = tuned_model.make_inspector().evaluation()\n",
    "print(f\"Accuracy: {tuned_self_evaluation.accuracy} Loss:{tuned_self_evaluation.loss}\")\n",
    "\n",
    "predictions = None\n",
    "num_predictions = 0\n",
    "\n",
    "for i in range(100):\n",
    "    print(f\"i:{i}\")\n",
    "    model = tfdf.keras.GradientBoostedTreesModel(\n",
    "        verbose=0, \n",
    "        features=[tfdf.keras.FeatureUsage(name=n) for n in input_features],\n",
    "        exclude_non_specified_features=True, # Only use the features in \"features\"\n",
    "        random_seed=i,\n",
    "        honest=True,\n",
    "    )\n",
    "    model.fit(train_ds)\n",
    "    \n",
    "    sub_predictions = model.predict(serving_ds, verbose=0)[:,0]\n",
    "    if predictions is None:\n",
    "        predictions = sub_predictions\n",
    "    else:\n",
    "        predictions += sub_predictions\n",
    "    num_predictions += 1\n",
    "\n",
    "predictions/=num_predictions\n",
    "\n",
    "kaggle_predictions = pd.DataFrame({\n",
    "        \"PassengerId\": preprocessed_test_df[\"PassengerId\"],\n",
    "        \"Survived\": (predictions >= 0.5).astype(int)\n",
    "    })\n",
    "submission = kaggle_predictions.copy()  # Create a copy of kaggle_predictions\n",
    "submission.to_csv(submission_file_path, index=False)\n"
   ]
  },
  {
   "cell_type": "code",
   "execution_count": null,
   "id": "ac437fd2-fa64-459b-b846-9230a10418e8",
   "metadata": {},
   "outputs": [],
   "source": []
  },
  {
   "cell_type": "code",
   "execution_count": null,
   "id": "220b91a2-4b1a-4502-90f5-3e08baaa1da0",
   "metadata": {},
   "outputs": [],
   "source": []
  },
  {
   "cell_type": "code",
   "execution_count": null,
   "id": "897724fe-e55b-4ff8-9869-a31b225f3d0c",
   "metadata": {},
   "outputs": [],
   "source": []
  }
 ],
 "metadata": {
  "kernelspec": {
   "display_name": "Python 3 (ipykernel)",
   "language": "python",
   "name": "python3"
  },
  "language_info": {
   "codemirror_mode": {
    "name": "ipython",
    "version": 3
   },
   "file_extension": ".py",
   "mimetype": "text/x-python",
   "name": "python",
   "nbconvert_exporter": "python",
   "pygments_lexer": "ipython3",
   "version": "3.10.12"
  }
 },
 "nbformat": 4,
 "nbformat_minor": 5
}
