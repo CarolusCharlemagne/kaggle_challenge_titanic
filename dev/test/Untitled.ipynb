{
 "cells": [
  {
   "cell_type": "code",
   "execution_count": 5,
   "id": "67aa3c50-894f-44fb-94dc-0fe5407a4411",
   "metadata": {},
   "outputs": [
    {
     "name": "stdout",
     "output_type": "stream",
     "text": [
      "Validation Accuracy: 0.8156424581005587\n"
     ]
    }
   ],
   "source": [
    "import pandas as pd\n",
    "from sklearn.model_selection import train_test_split, GridSearchCV\n",
    "from sklearn.ensemble import RandomForestClassifier, VotingClassifier\n",
    "from sklearn.metrics import accuracy_score\n",
    "from xgboost import XGBClassifier\n",
    "\n",
    "# Charger les données\n",
    "train_data = pd.read_csv('/home/charlemagne/workspace/kaggle_challenge_titanic/data/train.csv')\n",
    "test_data = pd.read_csv('/home/charlemagne/workspace/kaggle_challenge_titanic/data/test.csv')\n",
    "submission_file_path = '/home/charlemagne/workspace/kaggle_challenge_titanic/submission/dumb_test_complet.csv'\n",
    "\n",
    "# Fonction de prétraitement\n",
    "def preprocess_data(data, columns=None):\n",
    "    data['Age'].fillna(data['Age'].median(), inplace=True)\n",
    "    data['Embarked'].fillna(data['Embarked'].mode()[0], inplace=True)\n",
    "    data['Fare'].fillna(data['Fare'].median(), inplace=True)\n",
    "    data = pd.get_dummies(data, columns=['Sex', 'Embarked', 'Pclass'])\n",
    "    data['FamilySize'] = data['SibSp'] + data['Parch'] + 1\n",
    "    data.drop(['Ticket', 'Cabin', 'Name', 'SibSp', 'Parch'], axis=1, inplace=True)\n",
    "\n",
    "    # Aligner les colonnes avec l'ensemble de référence\n",
    "    if columns is not None:\n",
    "        data = data.reindex(columns=columns, fill_value=0)\n",
    "    return data\n",
    "\n",
    "# Conserver PassengerId pour le fichier de soumission\n",
    "passenger_id = test_data['PassengerId']\n",
    "\n",
    "# Prétraitement des données d'entraînement\n",
    "train_data = preprocess_data(train_data)\n",
    "X = train_data.drop([\"Survived\", \"PassengerId\"], axis=1)\n",
    "y = train_data[\"Survived\"]\n",
    "X_train_columns = X.columns\n",
    "\n",
    "# Prétraitement des données de test\n",
    "test_data = preprocess_data(test_data, columns=X_train_columns)\n",
    "\n",
    "# Séparer les données d'entraînement\n",
    "X_train, X_val, y_train, y_val = train_test_split(X, y, test_size=0.2, random_state=42)\n",
    "\n",
    "# Définir les modèles\n",
    "rf = RandomForestClassifier(random_state=42)\n",
    "xgb = XGBClassifier(random_state=42)\n",
    "\n",
    "# Grilles de paramètres pour le réglage\n",
    "param_grid_rf = {'n_estimators': [100, 200], 'max_depth': [5, 10]}\n",
    "param_grid_xgb = {'n_estimators': [100, 200], 'learning_rate': [0.05, 0.1]}\n",
    "\n",
    "# GridSearchCV pour le réglage des hyperparamètres\n",
    "grid_rf = GridSearchCV(estimator=rf, param_grid=param_grid_rf, cv=5, scoring='accuracy')\n",
    "grid_xgb = GridSearchCV(estimator=xgb, param_grid=param_grid_xgb, cv=5, scoring='accuracy')\n",
    "\n",
    "# Entraînement des modèles\n",
    "grid_rf.fit(X_train, y_train)\n",
    "grid_xgb.fit(X_train, y_train)\n",
    "\n",
    "# Classifier de vote\n",
    "voting_clf = VotingClassifier(estimators=[('rf', grid_rf.best_estimator_), ('xgb', grid_xgb.best_estimator_)], voting='soft')\n",
    "voting_clf.fit(X_train, y_train)\n",
    "\n",
    "# Évaluation sur l'ensemble de validation\n",
    "y_pred = voting_clf.predict(X_val)\n",
    "print(f\"Validation Accuracy: {accuracy_score(y_val, y_pred)}\")\n",
    "\n",
    "# Prédiction sur l'ensemble de test\n",
    "test_predictions = voting_clf.predict(test_data)\n",
    "\n",
    "# Créer le fichier de soumission\n",
    "submission = pd.DataFrame({'PassengerId': passenger_id, 'Survived': test_predictions})\n",
    "submission.to_csv(submission_file_path, index=False)\n"
   ]
  },
  {
   "cell_type": "code",
   "execution_count": null,
   "id": "63c231d7-1488-4159-883a-78c654be5669",
   "metadata": {},
   "outputs": [],
   "source": []
  }
 ],
 "metadata": {
  "kernelspec": {
   "display_name": "Python 3 (ipykernel)",
   "language": "python",
   "name": "python3"
  },
  "language_info": {
   "codemirror_mode": {
    "name": "ipython",
    "version": 3
   },
   "file_extension": ".py",
   "mimetype": "text/x-python",
   "name": "python",
   "nbconvert_exporter": "python",
   "pygments_lexer": "ipython3",
   "version": "3.10.12"
  }
 },
 "nbformat": 4,
 "nbformat_minor": 5
}
